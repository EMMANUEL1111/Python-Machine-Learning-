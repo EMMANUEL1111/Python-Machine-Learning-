{
 "cells": [
  {
   "cell_type": "markdown",
   "metadata": {},
   "source": [
    "### Importing Neccessary Libraries"
   ]
  },
  {
   "cell_type": "code",
   "execution_count": 172,
   "metadata": {},
   "outputs": [],
   "source": [
    "import pandas as pd\n",
    "import numpy as np\n",
    "import seaborn as sns\n",
    "import pylab as py\n",
    "from sklearn.model_selection import train_test_split\n",
    "from sklearn.linear_model import LinearRegression\n",
    "from sklearn.linear_model import LogisticRegression\n",
    "X_train, X_test, y_train, y_test = train_test_split(X, y, test_size=0.33, random_state=101)\n",
    "from sklearn.metrics import r2_score, mean_absolute_error,mean_squared_error\n",
    "import warnings\n",
    "warnings.filterwarnings('ignore')"
   ]
  },
  {
   "cell_type": "code",
   "execution_count": 2,
   "metadata": {},
   "outputs": [
    {
     "name": "stdout",
     "output_type": "stream",
     "text": [
      "Populating the interactive namespace from numpy and matplotlib\n"
     ]
    }
   ],
   "source": [
    "%pylab inline"
   ]
  },
  {
   "cell_type": "code",
   "execution_count": 3,
   "metadata": {},
   "outputs": [],
   "source": [
    "data=pd.read_excel('monel (1).xlsx')"
   ]
  },
  {
   "cell_type": "markdown",
   "metadata": {},
   "source": [
    "### Top Ten of the data"
   ]
  },
  {
   "cell_type": "code",
   "execution_count": 4,
   "metadata": {},
   "outputs": [
    {
     "data": {
      "text/html": [
       "<div>\n",
       "<style scoped>\n",
       "    .dataframe tbody tr th:only-of-type {\n",
       "        vertical-align: middle;\n",
       "    }\n",
       "\n",
       "    .dataframe tbody tr th {\n",
       "        vertical-align: top;\n",
       "    }\n",
       "\n",
       "    .dataframe thead th {\n",
       "        text-align: right;\n",
       "    }\n",
       "</style>\n",
       "<table border=\"1\" class=\"dataframe\">\n",
       "  <thead>\n",
       "    <tr style=\"text-align: right;\">\n",
       "      <th></th>\n",
       "      <th>Account Number</th>\n",
       "      <th>Annual Charges ($)</th>\n",
       "      <th>Annual Income ($1000)</th>\n",
       "      <th>Household Size</th>\n",
       "      <th>Years of Post-High School Education</th>\n",
       "      <th>Hours Per Week Watching Television</th>\n",
       "      <th>Age</th>\n",
       "      <th>Gender</th>\n",
       "      <th>Exceeded Credit Limit in Past 12 Months?</th>\n",
       "    </tr>\n",
       "  </thead>\n",
       "  <tbody>\n",
       "    <tr>\n",
       "      <th>0</th>\n",
       "      <td>1260688</td>\n",
       "      <td>10230.19</td>\n",
       "      <td>42.4</td>\n",
       "      <td>3</td>\n",
       "      <td>3</td>\n",
       "      <td>15</td>\n",
       "      <td>24</td>\n",
       "      <td>Male</td>\n",
       "      <td>No</td>\n",
       "    </tr>\n",
       "    <tr>\n",
       "      <th>1</th>\n",
       "      <td>3159700</td>\n",
       "      <td>18697.50</td>\n",
       "      <td>103.0</td>\n",
       "      <td>5</td>\n",
       "      <td>2</td>\n",
       "      <td>39</td>\n",
       "      <td>39</td>\n",
       "      <td>Female</td>\n",
       "      <td>Yes</td>\n",
       "    </tr>\n",
       "    <tr>\n",
       "      <th>2</th>\n",
       "      <td>3977101</td>\n",
       "      <td>18149.15</td>\n",
       "      <td>84.4</td>\n",
       "      <td>7</td>\n",
       "      <td>2</td>\n",
       "      <td>37</td>\n",
       "      <td>25</td>\n",
       "      <td>Male</td>\n",
       "      <td>No</td>\n",
       "    </tr>\n",
       "    <tr>\n",
       "      <th>3</th>\n",
       "      <td>16620929</td>\n",
       "      <td>8040.15</td>\n",
       "      <td>37.0</td>\n",
       "      <td>3</td>\n",
       "      <td>4</td>\n",
       "      <td>58</td>\n",
       "      <td>37</td>\n",
       "      <td>Female</td>\n",
       "      <td>No</td>\n",
       "    </tr>\n",
       "    <tr>\n",
       "      <th>4</th>\n",
       "      <td>6504217</td>\n",
       "      <td>9695.48</td>\n",
       "      <td>109.7</td>\n",
       "      <td>5</td>\n",
       "      <td>3</td>\n",
       "      <td>0</td>\n",
       "      <td>39</td>\n",
       "      <td>Female</td>\n",
       "      <td>No</td>\n",
       "    </tr>\n",
       "  </tbody>\n",
       "</table>\n",
       "</div>"
      ],
      "text/plain": [
       "   Account Number  Annual Charges ($)  Annual Income ($1000)  Household Size  \\\n",
       "0         1260688            10230.19                   42.4               3   \n",
       "1         3159700            18697.50                  103.0               5   \n",
       "2         3977101            18149.15                   84.4               7   \n",
       "3        16620929             8040.15                   37.0               3   \n",
       "4         6504217             9695.48                  109.7               5   \n",
       "\n",
       "   Years of Post-High School Education  Hours Per Week Watching Television  \\\n",
       "0                                    3                                  15   \n",
       "1                                    2                                  39   \n",
       "2                                    2                                  37   \n",
       "3                                    4                                  58   \n",
       "4                                    3                                   0   \n",
       "\n",
       "   Age  Gender Exceeded Credit Limit in Past 12 Months?  \n",
       "0   24    Male                                       No  \n",
       "1   39  Female                                      Yes  \n",
       "2   25    Male                                       No  \n",
       "3   37  Female                                       No  \n",
       "4   39  Female                                       No  "
      ]
     },
     "execution_count": 4,
     "metadata": {},
     "output_type": "execute_result"
    }
   ],
   "source": [
    "data.head()"
   ]
  },
  {
   "cell_type": "markdown",
   "metadata": {},
   "source": [
    "### Data Cleaning"
   ]
  },
  {
   "cell_type": "code",
   "execution_count": 5,
   "metadata": {},
   "outputs": [
    {
     "data": {
      "text/plain": [
       "Account Number                              0\n",
       "Annual Charges ($)                          0\n",
       "Annual Income ($1000)                       0\n",
       "Household Size                              0\n",
       "Years of Post-High School Education         0\n",
       "Hours Per Week Watching Television          0\n",
       "Age                                         0\n",
       "Gender                                      0\n",
       "Exceeded Credit Limit in Past 12 Months?    0\n",
       "dtype: int64"
      ]
     },
     "execution_count": 5,
     "metadata": {},
     "output_type": "execute_result"
    }
   ],
   "source": [
    "#No emppty data set\n",
    "data.isnull().sum()"
   ]
  },
  {
   "cell_type": "code",
   "execution_count": 6,
   "metadata": {},
   "outputs": [
    {
     "data": {
      "text/plain": [
       "<AxesSubplot:>"
      ]
     },
     "execution_count": 6,
     "metadata": {},
     "output_type": "execute_result"
    },
    {
     "data": {
      "image/png": "[encoded data removed]",
      "text/plain": [
       "<Figure size 720x576 with 2 Axes>"
      ]
     },
     "metadata": {
      "needs_background": "light"
     },
     "output_type": "display_data"
    }
   ],
   "source": [
    "fig=py.figure(figsize=(10,8))\n",
    "sns.heatmap(data.isnull(),yticklabels=False)"
   ]
  },
  {
   "cell_type": "markdown",
   "metadata": {},
   "source": [
    "### Correlation Matrix"
   ]
  },
  {
   "cell_type": "code",
   "execution_count": 7,
   "metadata": {},
   "outputs": [
    {
     "data": {
      "text/plain": [
       "<AxesSubplot:>"
      ]
     },
     "execution_count": 7,
     "metadata": {},
     "output_type": "execute_result"
    },
    {
     "data": {
      "image/png": "[encoded data removed]",
      "text/plain": [
       "<Figure size 720x576 with 2 Axes>"
      ]
     },
     "metadata": {
      "needs_background": "light"
     },
     "output_type": "display_data"
    }
   ],
   "source": [
    "\n",
    "fig=py.figure(figsize=(10,8))\n",
    "sns.heatmap(data[data.columns[1:]].corr(),annot=True)\n"
   ]
  },
  {
   "cell_type": "code",
   "execution_count": 16,
   "metadata": {},
   "outputs": [
    {
     "data": {
      "text/html": [
       "<div>\n",
       "<style scoped>\n",
       "    .dataframe tbody tr th:only-of-type {\n",
       "        vertical-align: middle;\n",
       "    }\n",
       "\n",
       "    .dataframe tbody tr th {\n",
       "        vertical-align: top;\n",
       "    }\n",
       "\n",
       "    .dataframe thead th {\n",
       "        text-align: right;\n",
       "    }\n",
       "</style>\n",
       "<table border=\"1\" class=\"dataframe\">\n",
       "  <thead>\n",
       "    <tr style=\"text-align: right;\">\n",
       "      <th></th>\n",
       "      <th>Annual Charges ($)</th>\n",
       "    </tr>\n",
       "  </thead>\n",
       "  <tbody>\n",
       "    <tr>\n",
       "      <th>Annual Charges ($)</th>\n",
       "      <td>1.000000</td>\n",
       "    </tr>\n",
       "    <tr>\n",
       "      <th>Annual Income ($1000)</th>\n",
       "      <td>0.548200</td>\n",
       "    </tr>\n",
       "    <tr>\n",
       "      <th>Household Size</th>\n",
       "      <td>0.223213</td>\n",
       "    </tr>\n",
       "    <tr>\n",
       "      <th>Hours Per Week Watching Television</th>\n",
       "      <td>0.072535</td>\n",
       "    </tr>\n",
       "    <tr>\n",
       "      <th>Age</th>\n",
       "      <td>-0.035161</td>\n",
       "    </tr>\n",
       "    <tr>\n",
       "      <th>Years of Post-High School Education</th>\n",
       "      <td>-0.058099</td>\n",
       "    </tr>\n",
       "  </tbody>\n",
       "</table>\n",
       "</div>"
      ],
      "text/plain": [
       "                                     Annual Charges ($)\n",
       "Annual Charges ($)                             1.000000\n",
       "Annual Income ($1000)                          0.548200\n",
       "Household Size                                 0.223213\n",
       "Hours Per Week Watching Television             0.072535\n",
       "Age                                           -0.035161\n",
       "Years of Post-High School Education           -0.058099"
      ]
     },
     "execution_count": 16,
     "metadata": {},
     "output_type": "execute_result"
    }
   ],
   "source": [
    "correlation=data[data.columns[1:]].corr()['Annual Charges ($)'].sort_values(ascending=False)\n",
    "(pd.DataFrame(correlation))"
   ]
  },
  {
   "cell_type": "code",
   "execution_count": null,
   "metadata": {},
   "outputs": [],
   "source": []
  },
  {
   "cell_type": "markdown",
   "metadata": {},
   "source": [
    "### Which independent variable(s) do you believe will help forecast the annual charges"
   ]
  },
  {
   "cell_type": "markdown",
   "metadata": {},
   "source": [
    "###### Annual Income($1000) \n",
    "######  The resulting output shows the sorted correlation values,\n",
    "######  The variables with higher absolute correlation values are more likely to help forecast the annual charges,\n",
    "######  In other words, these variables have a stronger linear relationship with the\n",
    "######  annual charges and are potentially more influential in predicting the charges.\n",
    "\n",
    "\n"
   ]
  },
  {
   "cell_type": "code",
   "execution_count": null,
   "metadata": {},
   "outputs": [],
   "source": []
  },
  {
   "cell_type": "markdown",
   "metadata": {},
   "source": [
    "#### Create a simple linear regression model using the customer’s annual household income as the independent variable"
   ]
  },
  {
   "cell_type": "code",
   "execution_count": 17,
   "metadata": {},
   "outputs": [
    {
     "data": {
      "text/plain": [
       "Index(['Account Number', 'Annual Charges ($)', 'Annual Income ($1000)',\n",
       "       'Household Size', 'Years of Post-High School Education',\n",
       "       'Hours Per Week Watching Television', 'Age', 'Gender',\n",
       "       'Exceeded Credit Limit in Past 12 Months?'],\n",
       "      dtype='object')"
      ]
     },
     "execution_count": 17,
     "metadata": {},
     "output_type": "execute_result"
    }
   ],
   "source": [
    "data.columns"
   ]
  },
  {
   "cell_type": "code",
   "execution_count": 18,
   "metadata": {},
   "outputs": [],
   "source": [
    "income=np.array(data['Annual Income ($1000)'])\n",
    "charge=np.array(data['Annual Charges ($)'])"
   ]
  },
  {
   "cell_type": "code",
   "execution_count": 19,
   "metadata": {},
   "outputs": [],
   "source": [
    "X=income.reshape(-1,1)\n",
    "y=charge"
   ]
  },
  {
   "cell_type": "code",
   "execution_count": 20,
   "metadata": {},
   "outputs": [
    {
     "data": {
      "text/plain": [
       "LinearRegression()"
      ]
     },
     "execution_count": 20,
     "metadata": {},
     "output_type": "execute_result"
    }
   ],
   "source": [
    "from sklearn.linear_model import LinearRegression\n",
    "from sklearn.model_selection import train_test_split\n",
    "X_train, X_test, y_train, y_test = train_test_split(X, y, test_size=0.33, random_state=42)\n",
    "linear=LinearRegression()\n",
    "linear.fit(X,y)"
   ]
  },
  {
   "cell_type": "code",
   "execution_count": 21,
   "metadata": {},
   "outputs": [],
   "source": [
    "#coefffcient "
   ]
  },
  {
   "cell_type": "code",
   "execution_count": 22,
   "metadata": {},
   "outputs": [
    {
     "name": "stdout",
     "output_type": "stream",
     "text": [
      "Slope is  119.76625096552402\n"
     ]
    }
   ],
   "source": [
    "slope=linear.coef_\n",
    "\n",
    "print('Slope is ',slope[0])"
   ]
  },
  {
   "cell_type": "code",
   "execution_count": 23,
   "metadata": {},
   "outputs": [
    {
     "name": "stdout",
     "output_type": "stream",
     "text": [
      "2771.9333717682657\n"
     ]
    }
   ],
   "source": [
    "intercept=linear.intercept_\n",
    "print(intercept)\n",
    "\n"
   ]
  },
  {
   "cell_type": "code",
   "execution_count": 24,
   "metadata": {},
   "outputs": [],
   "source": [
    "rsquared_income=linear.score(X,y)"
   ]
  },
  {
   "cell_type": "code",
   "execution_count": 25,
   "metadata": {},
   "outputs": [
    {
     "data": {
      "text/plain": [
       "0.30052347162160453"
      ]
     },
     "execution_count": 25,
     "metadata": {},
     "output_type": "execute_result"
    }
   ],
   "source": [
    "rsquared_income"
   ]
  },
  {
   "cell_type": "code",
   "execution_count": 28,
   "metadata": {},
   "outputs": [],
   "source": [
    "import statsmodels.api as sm\n",
    "import pandas as pd"
   ]
  },
  {
   "cell_type": "code",
   "execution_count": 29,
   "metadata": {},
   "outputs": [],
   "source": [
    "a=income  #Independent variable (annual household income\n",
    "b=charge  # Dependent variable\n",
    "B=sm.add_constant(b)  # Add a constant term for the intercept\n",
    "model=sm.OLS(a,b) # Ordinary Least Squares (OLS) regression\n",
    "results = model.fit()  # Fit the model\n"
   ]
  },
  {
   "cell_type": "code",
   "execution_count": 30,
   "metadata": {},
   "outputs": [
    {
     "data": {
      "text/html": [
       "<table class=\"simpletable\">\n",
       "<caption>OLS Regression Results</caption>\n",
       "<tr>\n",
       "  <th>Dep. Variable:</th>            <td>y</td>        <th>  R-squared (uncentered):</th>      <td>   0.822</td> \n",
       "</tr>\n",
       "<tr>\n",
       "  <th>Model:</th>                   <td>OLS</td>       <th>  Adj. R-squared (uncentered):</th> <td>   0.821</td> \n",
       "</tr>\n",
       "<tr>\n",
       "  <th>Method:</th>             <td>Least Squares</td>  <th>  F-statistic:       </th>          <td>   1807.</td> \n",
       "</tr>\n",
       "<tr>\n",
       "  <th>Date:</th>             <td>Fri, 14 Jul 2023</td> <th>  Prob (F-statistic):</th>          <td>6.87e-149</td>\n",
       "</tr>\n",
       "<tr>\n",
       "  <th>Time:</th>                 <td>20:06:21</td>     <th>  Log-Likelihood:    </th>          <td> -1895.0</td> \n",
       "</tr>\n",
       "<tr>\n",
       "  <th>No. Observations:</th>      <td>   393</td>      <th>  AIC:               </th>          <td>   3792.</td> \n",
       "</tr>\n",
       "<tr>\n",
       "  <th>Df Residuals:</th>          <td>   392</td>      <th>  BIC:               </th>          <td>   3796.</td> \n",
       "</tr>\n",
       "<tr>\n",
       "  <th>Df Model:</th>              <td>     1</td>      <th>                     </th>              <td> </td>    \n",
       "</tr>\n",
       "<tr>\n",
       "  <th>Covariance Type:</th>      <td>nonrobust</td>    <th>                     </th>              <td> </td>    \n",
       "</tr>\n",
       "</table>\n",
       "<table class=\"simpletable\">\n",
       "<tr>\n",
       "   <td></td>     <th>coef</th>     <th>std err</th>      <th>t</th>      <th>P>|t|</th>  <th>[0.025</th>    <th>0.975]</th>  \n",
       "</tr>\n",
       "<tr>\n",
       "  <th>x1</th> <td>    0.0053</td> <td>    0.000</td> <td>   42.514</td> <td> 0.000</td> <td>    0.005</td> <td>    0.006</td>\n",
       "</tr>\n",
       "</table>\n",
       "<table class=\"simpletable\">\n",
       "<tr>\n",
       "  <th>Omnibus:</th>       <td>14.555</td> <th>  Durbin-Watson:     </th> <td>   1.683</td>\n",
       "</tr>\n",
       "<tr>\n",
       "  <th>Prob(Omnibus):</th> <td> 0.001</td> <th>  Jarque-Bera (JB):  </th> <td>   6.990</td>\n",
       "</tr>\n",
       "<tr>\n",
       "  <th>Skew:</th>          <td> 0.047</td> <th>  Prob(JB):          </th> <td>  0.0303</td>\n",
       "</tr>\n",
       "<tr>\n",
       "  <th>Kurtosis:</th>      <td> 2.353</td> <th>  Cond. No.          </th> <td>    1.00</td>\n",
       "</tr>\n",
       "</table><br/><br/>Notes:<br/>[1] R² is computed without centering (uncentered) since the model does not contain a constant.<br/>[2] Standard Errors assume that the covariance matrix of the errors is correctly specified."
      ],
      "text/plain": [
       "<class 'statsmodels.iolib.summary.Summary'>\n",
       "\"\"\"\n",
       "                                 OLS Regression Results                                \n",
       "=======================================================================================\n",
       "Dep. Variable:                      y   R-squared (uncentered):                   0.822\n",
       "Model:                            OLS   Adj. R-squared (uncentered):              0.821\n",
       "Method:                 Least Squares   F-statistic:                              1807.\n",
       "Date:                Fri, 14 Jul 2023   Prob (F-statistic):                   6.87e-149\n",
       "Time:                        20:06:21   Log-Likelihood:                         -1895.0\n",
       "No. Observations:                 393   AIC:                                      3792.\n",
       "Df Residuals:                     392   BIC:                                      3796.\n",
       "Df Model:                           1                                                  \n",
       "Covariance Type:            nonrobust                                                  \n",
       "==============================================================================\n",
       "                 coef    std err          t      P>|t|      [0.025      0.975]\n",
       "------------------------------------------------------------------------------\n",
       "x1             0.0053      0.000     42.514      0.000       0.005       0.006\n",
       "==============================================================================\n",
       "Omnibus:                       14.555   Durbin-Watson:                   1.683\n",
       "Prob(Omnibus):                  0.001   Jarque-Bera (JB):                6.990\n",
       "Skew:                           0.047   Prob(JB):                       0.0303\n",
       "Kurtosis:                       2.353   Cond. No.                         1.00\n",
       "==============================================================================\n",
       "\n",
       "Notes:\n",
       "[1] R² is computed without centering (uncentered) since the model does not contain a constant.\n",
       "[2] Standard Errors assume that the covariance matrix of the errors is correctly specified.\n",
       "\"\"\""
      ]
     },
     "execution_count": 30,
     "metadata": {},
     "output_type": "execute_result"
    }
   ],
   "source": [
    "results.summary()"
   ]
  },
  {
   "cell_type": "code",
   "execution_count": 31,
   "metadata": {},
   "outputs": [
    {
     "name": "stdout",
     "output_type": "stream",
     "text": [
      "6.869620909364351e-149\n",
      "0.8217756743897002\n"
     ]
    }
   ],
   "source": [
    "print(results.pvalues[0])\n",
    "print(results.rsquared)"
   ]
  },
  {
   "cell_type": "markdown",
   "metadata": {},
   "source": [
    "#### Estimated Slope Coefficient: 119.76625096552402\n",
    "\n",
    "#### For a one-unit increase in annual household income, the estimated change in annual charges is 119.76625096552402 units.\n"
   ]
  },
  {
   "cell_type": "code",
   "execution_count": null,
   "metadata": {},
   "outputs": [],
   "source": []
  },
  {
   "cell_type": "markdown",
   "metadata": {},
   "source": [
    "### How much variation in credit card charges can be explained by this simple linear regression model?"
   ]
  },
  {
   "cell_type": "code",
   "execution_count": 32,
   "metadata": {},
   "outputs": [],
   "source": [
    "r_squared=results.rsquared"
   ]
  },
  {
   "cell_type": "code",
   "execution_count": 33,
   "metadata": {},
   "outputs": [
    {
     "name": "stdout",
     "output_type": "stream",
     "text": [
      "r_squared is 0.8217756743897002\n"
     ]
    }
   ],
   "source": [
    "print('r_squared is',r_squared)"
   ]
  },
  {
   "cell_type": "markdown",
   "metadata": {},
   "source": [
    "#### R-squared:  0.8217756743897002\n",
    "\n",
    "#### Approximately  0.8217756743897002 of the variation in credit card charges can be explained by the annual household\n",
    "#### income variable in the simple linear regression model.\n"
   ]
  },
  {
   "cell_type": "code",
   "execution_count": null,
   "metadata": {},
   "outputs": [],
   "source": []
  },
  {
   "cell_type": "code",
   "execution_count": null,
   "metadata": {},
   "outputs": [],
   "source": []
  },
  {
   "cell_type": "code",
   "execution_count": null,
   "metadata": {},
   "outputs": [],
   "source": []
  },
  {
   "cell_type": "markdown",
   "metadata": {},
   "source": [
    "##### Create a simple linear regression model using the number of members in customer’s household as\n",
    "#####  the independent variable."
   ]
  },
  {
   "cell_type": "code",
   "execution_count": 34,
   "metadata": {},
   "outputs": [
    {
     "data": {
      "text/html": [
       "<div>\n",
       "<style scoped>\n",
       "    .dataframe tbody tr th:only-of-type {\n",
       "        vertical-align: middle;\n",
       "    }\n",
       "\n",
       "    .dataframe tbody tr th {\n",
       "        vertical-align: top;\n",
       "    }\n",
       "\n",
       "    .dataframe thead th {\n",
       "        text-align: right;\n",
       "    }\n",
       "</style>\n",
       "<table border=\"1\" class=\"dataframe\">\n",
       "  <thead>\n",
       "    <tr style=\"text-align: right;\">\n",
       "      <th></th>\n",
       "      <th>Account Number</th>\n",
       "      <th>Annual Charges ($)</th>\n",
       "      <th>Annual Income ($1000)</th>\n",
       "      <th>Household Size</th>\n",
       "      <th>Years of Post-High School Education</th>\n",
       "      <th>Hours Per Week Watching Television</th>\n",
       "      <th>Age</th>\n",
       "      <th>Gender</th>\n",
       "      <th>Exceeded Credit Limit in Past 12 Months?</th>\n",
       "    </tr>\n",
       "  </thead>\n",
       "  <tbody>\n",
       "    <tr>\n",
       "      <th>0</th>\n",
       "      <td>1260688</td>\n",
       "      <td>10230.19</td>\n",
       "      <td>42.4</td>\n",
       "      <td>3</td>\n",
       "      <td>3</td>\n",
       "      <td>15</td>\n",
       "      <td>24</td>\n",
       "      <td>Male</td>\n",
       "      <td>No</td>\n",
       "    </tr>\n",
       "    <tr>\n",
       "      <th>1</th>\n",
       "      <td>3159700</td>\n",
       "      <td>18697.50</td>\n",
       "      <td>103.0</td>\n",
       "      <td>5</td>\n",
       "      <td>2</td>\n",
       "      <td>39</td>\n",
       "      <td>39</td>\n",
       "      <td>Female</td>\n",
       "      <td>Yes</td>\n",
       "    </tr>\n",
       "    <tr>\n",
       "      <th>2</th>\n",
       "      <td>3977101</td>\n",
       "      <td>18149.15</td>\n",
       "      <td>84.4</td>\n",
       "      <td>7</td>\n",
       "      <td>2</td>\n",
       "      <td>37</td>\n",
       "      <td>25</td>\n",
       "      <td>Male</td>\n",
       "      <td>No</td>\n",
       "    </tr>\n",
       "    <tr>\n",
       "      <th>3</th>\n",
       "      <td>16620929</td>\n",
       "      <td>8040.15</td>\n",
       "      <td>37.0</td>\n",
       "      <td>3</td>\n",
       "      <td>4</td>\n",
       "      <td>58</td>\n",
       "      <td>37</td>\n",
       "      <td>Female</td>\n",
       "      <td>No</td>\n",
       "    </tr>\n",
       "    <tr>\n",
       "      <th>4</th>\n",
       "      <td>6504217</td>\n",
       "      <td>9695.48</td>\n",
       "      <td>109.7</td>\n",
       "      <td>5</td>\n",
       "      <td>3</td>\n",
       "      <td>0</td>\n",
       "      <td>39</td>\n",
       "      <td>Female</td>\n",
       "      <td>No</td>\n",
       "    </tr>\n",
       "  </tbody>\n",
       "</table>\n",
       "</div>"
      ],
      "text/plain": [
       "   Account Number  Annual Charges ($)  Annual Income ($1000)  Household Size  \\\n",
       "0         1260688            10230.19                   42.4               3   \n",
       "1         3159700            18697.50                  103.0               5   \n",
       "2         3977101            18149.15                   84.4               7   \n",
       "3        16620929             8040.15                   37.0               3   \n",
       "4         6504217             9695.48                  109.7               5   \n",
       "\n",
       "   Years of Post-High School Education  Hours Per Week Watching Television  \\\n",
       "0                                    3                                  15   \n",
       "1                                    2                                  39   \n",
       "2                                    2                                  37   \n",
       "3                                    4                                  58   \n",
       "4                                    3                                   0   \n",
       "\n",
       "   Age  Gender Exceeded Credit Limit in Past 12 Months?  \n",
       "0   24    Male                                       No  \n",
       "1   39  Female                                      Yes  \n",
       "2   25    Male                                       No  \n",
       "3   37  Female                                       No  \n",
       "4   39  Female                                       No  "
      ]
     },
     "execution_count": 34,
     "metadata": {},
     "output_type": "execute_result"
    }
   ],
   "source": [
    "data.head()"
   ]
  },
  {
   "cell_type": "code",
   "execution_count": 35,
   "metadata": {},
   "outputs": [],
   "source": [
    "household=np.array(data['Household Size'])\n",
    "annual_charge=np.array(data['Annual Charges ($)'])"
   ]
  },
  {
   "cell_type": "code",
   "execution_count": 36,
   "metadata": {},
   "outputs": [],
   "source": [
    "X=household.reshape(-1,1)\n",
    "y=annual_charge"
   ]
  },
  {
   "cell_type": "code",
   "execution_count": 37,
   "metadata": {},
   "outputs": [],
   "source": [
    "\n",
    "from sklearn.model_selection import train_test_split\n",
    "X_train, X_test, y_train, y_test = train_test_split(X, y, test_size=0.33, random_state=42)"
   ]
  },
  {
   "cell_type": "code",
   "execution_count": 38,
   "metadata": {},
   "outputs": [
    {
     "data": {
      "text/plain": [
       "LinearRegression()"
      ]
     },
     "execution_count": 38,
     "metadata": {},
     "output_type": "execute_result"
    }
   ],
   "source": [
    "from sklearn.linear_model import LinearRegression\n",
    "model=LinearRegression()\n",
    "model.fit(X,y)"
   ]
  },
  {
   "cell_type": "code",
   "execution_count": 39,
   "metadata": {},
   "outputs": [
    {
     "data": {
      "text/plain": [
       "0.04982383720611039"
      ]
     },
     "execution_count": 39,
     "metadata": {},
     "output_type": "execute_result"
    }
   ],
   "source": [
    "model.score(X,y)"
   ]
  },
  {
   "cell_type": "code",
   "execution_count": 40,
   "metadata": {},
   "outputs": [
    {
     "name": "stdout",
     "output_type": "stream",
     "text": [
      "Slope is  653.1217844746739\n",
      "Intercept is 7719.60963202251\n"
     ]
    }
   ],
   "source": [
    "slope=model.coef_[0]\n",
    "intercept=model.intercept_\n",
    "\n",
    "print('Slope is ',slope)\n",
    "print('Intercept is',intercept)"
   ]
  },
  {
   "cell_type": "code",
   "execution_count": 41,
   "metadata": {},
   "outputs": [],
   "source": [
    "r_squared_household=model.score(X,y)"
   ]
  },
  {
   "cell_type": "code",
   "execution_count": 42,
   "metadata": {},
   "outputs": [
    {
     "data": {
      "text/plain": [
       "0.04982383720611039"
      ]
     },
     "execution_count": 42,
     "metadata": {},
     "output_type": "execute_result"
    }
   ],
   "source": [
    "r_squared_household"
   ]
  },
  {
   "cell_type": "markdown",
   "metadata": {},
   "source": [
    "##### the slope coefficient tells us how the dependent variable (annual charges) changes when the independent variable\n",
    "\n",
    "#####  (number of members in the household) changes by one unit."
   ]
  },
  {
   "cell_type": "code",
   "execution_count": null,
   "metadata": {},
   "outputs": [],
   "source": []
  },
  {
   "cell_type": "code",
   "execution_count": null,
   "metadata": {},
   "outputs": [],
   "source": []
  },
  {
   "cell_type": "code",
   "execution_count": 43,
   "metadata": {},
   "outputs": [
    {
     "data": {
      "text/html": [
       "<table class=\"simpletable\">\n",
       "<caption>OLS Regression Results</caption>\n",
       "<tr>\n",
       "  <th>Dep. Variable:</th>            <td>y</td>        <th>  R-squared (uncentered):</th>      <td>   0.698</td> \n",
       "</tr>\n",
       "<tr>\n",
       "  <th>Model:</th>                   <td>OLS</td>       <th>  Adj. R-squared (uncentered):</th> <td>   0.697</td> \n",
       "</tr>\n",
       "<tr>\n",
       "  <th>Method:</th>             <td>Least Squares</td>  <th>  F-statistic:       </th>          <td>   906.2</td> \n",
       "</tr>\n",
       "<tr>\n",
       "  <th>Date:</th>             <td>Fri, 14 Jul 2023</td> <th>  Prob (F-statistic):</th>          <td>5.67e-104</td>\n",
       "</tr>\n",
       "<tr>\n",
       "  <th>Time:</th>                 <td>20:06:31</td>     <th>  Log-Likelihood:    </th>          <td> -4020.9</td> \n",
       "</tr>\n",
       "<tr>\n",
       "  <th>No. Observations:</th>      <td>   393</td>      <th>  AIC:               </th>          <td>   8044.</td> \n",
       "</tr>\n",
       "<tr>\n",
       "  <th>Df Residuals:</th>          <td>   392</td>      <th>  BIC:               </th>          <td>   8048.</td> \n",
       "</tr>\n",
       "<tr>\n",
       "  <th>Df Model:</th>              <td>     1</td>      <th>                     </th>              <td> </td>    \n",
       "</tr>\n",
       "<tr>\n",
       "  <th>Covariance Type:</th>      <td>nonrobust</td>    <th>                     </th>              <td> </td>    \n",
       "</tr>\n",
       "</table>\n",
       "<table class=\"simpletable\">\n",
       "<tr>\n",
       "   <td></td>     <th>coef</th>     <th>std err</th>      <th>t</th>      <th>P>|t|</th>  <th>[0.025</th>    <th>0.975]</th>  \n",
       "</tr>\n",
       "<tr>\n",
       "  <th>x1</th> <td> 2080.0231</td> <td>   69.098</td> <td>   30.103</td> <td> 0.000</td> <td> 1944.175</td> <td> 2215.872</td>\n",
       "</tr>\n",
       "</table>\n",
       "<table class=\"simpletable\">\n",
       "<tr>\n",
       "  <th>Omnibus:</th>       <td> 0.543</td> <th>  Durbin-Watson:     </th> <td>   1.857</td>\n",
       "</tr>\n",
       "<tr>\n",
       "  <th>Prob(Omnibus):</th> <td> 0.762</td> <th>  Jarque-Bera (JB):  </th> <td>   0.656</td>\n",
       "</tr>\n",
       "<tr>\n",
       "  <th>Skew:</th>          <td>-0.028</td> <th>  Prob(JB):          </th> <td>   0.720</td>\n",
       "</tr>\n",
       "<tr>\n",
       "  <th>Kurtosis:</th>      <td> 2.808</td> <th>  Cond. No.          </th> <td>    1.00</td>\n",
       "</tr>\n",
       "</table><br/><br/>Notes:<br/>[1] R² is computed without centering (uncentered) since the model does not contain a constant.<br/>[2] Standard Errors assume that the covariance matrix of the errors is correctly specified."
      ],
      "text/plain": [
       "<class 'statsmodels.iolib.summary.Summary'>\n",
       "\"\"\"\n",
       "                                 OLS Regression Results                                \n",
       "=======================================================================================\n",
       "Dep. Variable:                      y   R-squared (uncentered):                   0.698\n",
       "Model:                            OLS   Adj. R-squared (uncentered):              0.697\n",
       "Method:                 Least Squares   F-statistic:                              906.2\n",
       "Date:                Fri, 14 Jul 2023   Prob (F-statistic):                   5.67e-104\n",
       "Time:                        20:06:31   Log-Likelihood:                         -4020.9\n",
       "No. Observations:                 393   AIC:                                      8044.\n",
       "Df Residuals:                     392   BIC:                                      8048.\n",
       "Df Model:                           1                                                  \n",
       "Covariance Type:            nonrobust                                                  \n",
       "==============================================================================\n",
       "                 coef    std err          t      P>|t|      [0.025      0.975]\n",
       "------------------------------------------------------------------------------\n",
       "x1          2080.0231     69.098     30.103      0.000    1944.175    2215.872\n",
       "==============================================================================\n",
       "Omnibus:                        0.543   Durbin-Watson:                   1.857\n",
       "Prob(Omnibus):                  0.762   Jarque-Bera (JB):                0.656\n",
       "Skew:                          -0.028   Prob(JB):                        0.720\n",
       "Kurtosis:                       2.808   Cond. No.                         1.00\n",
       "==============================================================================\n",
       "\n",
       "Notes:\n",
       "[1] R² is computed without centering (uncentered) since the model does not contain a constant.\n",
       "[2] Standard Errors assume that the covariance matrix of the errors is correctly specified.\n",
       "\"\"\""
      ]
     },
     "execution_count": 43,
     "metadata": {},
     "output_type": "execute_result"
    }
   ],
   "source": [
    "import statsmodels.api as sm\n",
    "import pandas as pd\n",
    "a=household  #Independent variable (annual household income\n",
    "b=annual_charge  # Dependent variable\n",
    "B=sm.add_constant(a)  # Add a constant term for the intercept\n",
    "model=sm.OLS(b,a) # Ordinary Least Squares (OLS) regression\n",
    "results = model.fit()  # Fit the model\n",
    "results.summary()"
   ]
  },
  {
   "cell_type": "code",
   "execution_count": null,
   "metadata": {},
   "outputs": [],
   "source": []
  },
  {
   "cell_type": "markdown",
   "metadata": {},
   "source": [
    "##### Create a simple linear regression model using the customer’s number of years of post-high school\n",
    "#####  education as the independent variable."
   ]
  },
  {
   "cell_type": "code",
   "execution_count": 44,
   "metadata": {},
   "outputs": [
    {
     "data": {
      "text/html": [
       "<div>\n",
       "<style scoped>\n",
       "    .dataframe tbody tr th:only-of-type {\n",
       "        vertical-align: middle;\n",
       "    }\n",
       "\n",
       "    .dataframe tbody tr th {\n",
       "        vertical-align: top;\n",
       "    }\n",
       "\n",
       "    .dataframe thead th {\n",
       "        text-align: right;\n",
       "    }\n",
       "</style>\n",
       "<table border=\"1\" class=\"dataframe\">\n",
       "  <thead>\n",
       "    <tr style=\"text-align: right;\">\n",
       "      <th></th>\n",
       "      <th>Account Number</th>\n",
       "      <th>Annual Charges ($)</th>\n",
       "      <th>Annual Income ($1000)</th>\n",
       "      <th>Household Size</th>\n",
       "      <th>Years of Post-High School Education</th>\n",
       "      <th>Hours Per Week Watching Television</th>\n",
       "      <th>Age</th>\n",
       "      <th>Gender</th>\n",
       "      <th>Exceeded Credit Limit in Past 12 Months?</th>\n",
       "    </tr>\n",
       "  </thead>\n",
       "  <tbody>\n",
       "    <tr>\n",
       "      <th>0</th>\n",
       "      <td>1260688</td>\n",
       "      <td>10230.19</td>\n",
       "      <td>42.4</td>\n",
       "      <td>3</td>\n",
       "      <td>3</td>\n",
       "      <td>15</td>\n",
       "      <td>24</td>\n",
       "      <td>Male</td>\n",
       "      <td>No</td>\n",
       "    </tr>\n",
       "    <tr>\n",
       "      <th>1</th>\n",
       "      <td>3159700</td>\n",
       "      <td>18697.50</td>\n",
       "      <td>103.0</td>\n",
       "      <td>5</td>\n",
       "      <td>2</td>\n",
       "      <td>39</td>\n",
       "      <td>39</td>\n",
       "      <td>Female</td>\n",
       "      <td>Yes</td>\n",
       "    </tr>\n",
       "    <tr>\n",
       "      <th>2</th>\n",
       "      <td>3977101</td>\n",
       "      <td>18149.15</td>\n",
       "      <td>84.4</td>\n",
       "      <td>7</td>\n",
       "      <td>2</td>\n",
       "      <td>37</td>\n",
       "      <td>25</td>\n",
       "      <td>Male</td>\n",
       "      <td>No</td>\n",
       "    </tr>\n",
       "    <tr>\n",
       "      <th>3</th>\n",
       "      <td>16620929</td>\n",
       "      <td>8040.15</td>\n",
       "      <td>37.0</td>\n",
       "      <td>3</td>\n",
       "      <td>4</td>\n",
       "      <td>58</td>\n",
       "      <td>37</td>\n",
       "      <td>Female</td>\n",
       "      <td>No</td>\n",
       "    </tr>\n",
       "    <tr>\n",
       "      <th>4</th>\n",
       "      <td>6504217</td>\n",
       "      <td>9695.48</td>\n",
       "      <td>109.7</td>\n",
       "      <td>5</td>\n",
       "      <td>3</td>\n",
       "      <td>0</td>\n",
       "      <td>39</td>\n",
       "      <td>Female</td>\n",
       "      <td>No</td>\n",
       "    </tr>\n",
       "  </tbody>\n",
       "</table>\n",
       "</div>"
      ],
      "text/plain": [
       "   Account Number  Annual Charges ($)  Annual Income ($1000)  Household Size  \\\n",
       "0         1260688            10230.19                   42.4               3   \n",
       "1         3159700            18697.50                  103.0               5   \n",
       "2         3977101            18149.15                   84.4               7   \n",
       "3        16620929             8040.15                   37.0               3   \n",
       "4         6504217             9695.48                  109.7               5   \n",
       "\n",
       "   Years of Post-High School Education  Hours Per Week Watching Television  \\\n",
       "0                                    3                                  15   \n",
       "1                                    2                                  39   \n",
       "2                                    2                                  37   \n",
       "3                                    4                                  58   \n",
       "4                                    3                                   0   \n",
       "\n",
       "   Age  Gender Exceeded Credit Limit in Past 12 Months?  \n",
       "0   24    Male                                       No  \n",
       "1   39  Female                                      Yes  \n",
       "2   25    Male                                       No  \n",
       "3   37  Female                                       No  \n",
       "4   39  Female                                       No  "
      ]
     },
     "execution_count": 44,
     "metadata": {},
     "output_type": "execute_result"
    }
   ],
   "source": [
    "data.head()"
   ]
  },
  {
   "cell_type": "code",
   "execution_count": 45,
   "metadata": {},
   "outputs": [],
   "source": [
    "education=np.array(data['Years of Post-High School Education']).reshape(-1,1)\n",
    "charges=np.array(data['Annual Charges ($)'])"
   ]
  },
  {
   "cell_type": "code",
   "execution_count": 46,
   "metadata": {},
   "outputs": [],
   "source": [
    "X=education\n",
    "y=charges"
   ]
  },
  {
   "cell_type": "code",
   "execution_count": 47,
   "metadata": {},
   "outputs": [
    {
     "name": "stdout",
     "output_type": "stream",
     "text": [
      "slope is -234.53729574273262\n",
      "Intercept 11260.378502799156\n"
     ]
    }
   ],
   "source": [
    "from sklearn.linear_model import LinearRegression\n",
    "from sklearn.model_selection import train_test_split\n",
    "X_train, X_test, y_train, y_test = train_test_split(X, y, test_size=0.33, random_state=42)\n",
    "linear=LinearRegression()\n",
    "linear.fit(X,y)\n",
    "\n",
    "slope=linear.coef_[0]\n",
    "intercept=linear.intercept_\n",
    "print('slope is',slope)\n",
    "print('Intercept',intercept)"
   ]
  },
  {
   "cell_type": "code",
   "execution_count": 48,
   "metadata": {},
   "outputs": [],
   "source": [
    "r_squared_education=linear.score(X,y)"
   ]
  },
  {
   "cell_type": "code",
   "execution_count": 49,
   "metadata": {},
   "outputs": [
    {
     "data": {
      "text/plain": [
       "0.0033754472402595104"
      ]
     },
     "execution_count": 49,
     "metadata": {},
     "output_type": "execute_result"
    }
   ],
   "source": [
    "r_squared_education"
   ]
  },
  {
   "cell_type": "code",
   "execution_count": 50,
   "metadata": {},
   "outputs": [
    {
     "data": {
      "text/html": [
       "<table class=\"simpletable\">\n",
       "<caption>OLS Regression Results</caption>\n",
       "<tr>\n",
       "  <th>Dep. Variable:</th>            <td>y</td>        <th>  R-squared (uncentered):</th>      <td>   0.557</td>\n",
       "</tr>\n",
       "<tr>\n",
       "  <th>Model:</th>                   <td>OLS</td>       <th>  Adj. R-squared (uncentered):</th> <td>   0.556</td>\n",
       "</tr>\n",
       "<tr>\n",
       "  <th>Method:</th>             <td>Least Squares</td>  <th>  F-statistic:       </th>          <td>   492.5</td>\n",
       "</tr>\n",
       "<tr>\n",
       "  <th>Date:</th>             <td>Fri, 14 Jul 2023</td> <th>  Prob (F-statistic):</th>          <td>2.90e-71</td>\n",
       "</tr>\n",
       "<tr>\n",
       "  <th>Time:</th>                 <td>20:06:35</td>     <th>  Log-Likelihood:    </th>          <td> -4096.3</td>\n",
       "</tr>\n",
       "<tr>\n",
       "  <th>No. Observations:</th>      <td>   393</td>      <th>  AIC:               </th>          <td>   8195.</td>\n",
       "</tr>\n",
       "<tr>\n",
       "  <th>Df Residuals:</th>          <td>   392</td>      <th>  BIC:               </th>          <td>   8199.</td>\n",
       "</tr>\n",
       "<tr>\n",
       "  <th>Df Model:</th>              <td>     1</td>      <th>                     </th>              <td> </td>   \n",
       "</tr>\n",
       "<tr>\n",
       "  <th>Covariance Type:</th>      <td>nonrobust</td>    <th>                     </th>              <td> </td>   \n",
       "</tr>\n",
       "</table>\n",
       "<table class=\"simpletable\">\n",
       "<tr>\n",
       "   <td></td>     <th>coef</th>     <th>std err</th>      <th>t</th>      <th>P>|t|</th>  <th>[0.025</th>    <th>0.975]</th>  \n",
       "</tr>\n",
       "<tr>\n",
       "  <th>x1</th> <td> 2964.1244</td> <td>  133.566</td> <td>   22.192</td> <td> 0.000</td> <td> 2701.529</td> <td> 3226.719</td>\n",
       "</tr>\n",
       "</table>\n",
       "<table class=\"simpletable\">\n",
       "<tr>\n",
       "  <th>Omnibus:</th>       <td> 2.975</td> <th>  Durbin-Watson:     </th> <td>   1.684</td>\n",
       "</tr>\n",
       "<tr>\n",
       "  <th>Prob(Omnibus):</th> <td> 0.226</td> <th>  Jarque-Bera (JB):  </th> <td>   2.868</td>\n",
       "</tr>\n",
       "<tr>\n",
       "  <th>Skew:</th>          <td> 0.156</td> <th>  Prob(JB):          </th> <td>   0.238</td>\n",
       "</tr>\n",
       "<tr>\n",
       "  <th>Kurtosis:</th>      <td> 2.722</td> <th>  Cond. No.          </th> <td>    1.00</td>\n",
       "</tr>\n",
       "</table><br/><br/>Notes:<br/>[1] R² is computed without centering (uncentered) since the model does not contain a constant.<br/>[2] Standard Errors assume that the covariance matrix of the errors is correctly specified."
      ],
      "text/plain": [
       "<class 'statsmodels.iolib.summary.Summary'>\n",
       "\"\"\"\n",
       "                                 OLS Regression Results                                \n",
       "=======================================================================================\n",
       "Dep. Variable:                      y   R-squared (uncentered):                   0.557\n",
       "Model:                            OLS   Adj. R-squared (uncentered):              0.556\n",
       "Method:                 Least Squares   F-statistic:                              492.5\n",
       "Date:                Fri, 14 Jul 2023   Prob (F-statistic):                    2.90e-71\n",
       "Time:                        20:06:35   Log-Likelihood:                         -4096.3\n",
       "No. Observations:                 393   AIC:                                      8195.\n",
       "Df Residuals:                     392   BIC:                                      8199.\n",
       "Df Model:                           1                                                  \n",
       "Covariance Type:            nonrobust                                                  \n",
       "==============================================================================\n",
       "                 coef    std err          t      P>|t|      [0.025      0.975]\n",
       "------------------------------------------------------------------------------\n",
       "x1          2964.1244    133.566     22.192      0.000    2701.529    3226.719\n",
       "==============================================================================\n",
       "Omnibus:                        2.975   Durbin-Watson:                   1.684\n",
       "Prob(Omnibus):                  0.226   Jarque-Bera (JB):                2.868\n",
       "Skew:                           0.156   Prob(JB):                        0.238\n",
       "Kurtosis:                       2.722   Cond. No.                         1.00\n",
       "==============================================================================\n",
       "\n",
       "Notes:\n",
       "[1] R² is computed without centering (uncentered) since the model does not contain a constant.\n",
       "[2] Standard Errors assume that the covariance matrix of the errors is correctly specified.\n",
       "\"\"\""
      ]
     },
     "execution_count": 50,
     "metadata": {},
     "output_type": "execute_result"
    }
   ],
   "source": [
    "import statsmodels.api as sm\n",
    "import pandas as pd\n",
    "a=education  #Independent variable (annual household income\n",
    "b=charges  # Dependent variable\n",
    "B=sm.add_constant(a)  # Add a constant term for the intercept\n",
    "model=sm.OLS(b,a) # Ordinary Least Squares (OLS) regression\n",
    "results = model.fit()  # Fit the model\n",
    "results.summary()"
   ]
  },
  {
   "cell_type": "code",
   "execution_count": 51,
   "metadata": {},
   "outputs": [
    {
     "data": {
      "text/plain": [
       "0.5568095166360952"
      ]
     },
     "execution_count": 51,
     "metadata": {},
     "output_type": "execute_result"
    }
   ],
   "source": [
    "results.rsquared"
   ]
  },
  {
   "cell_type": "code",
   "execution_count": 52,
   "metadata": {},
   "outputs": [
    {
     "data": {
      "text/plain": [
       "2.9041382059062878e-71"
      ]
     },
     "execution_count": 52,
     "metadata": {},
     "output_type": "execute_result"
    }
   ],
   "source": [
    "results.pvalues[0]"
   ]
  },
  {
   "cell_type": "markdown",
   "metadata": {},
   "source": [
    "###### If the p-value is below the predetermined significance level (e.g., 0.05), \n",
    "#### you can conclude that the number of years of post-high school education variable is statistically significant. \n",
    "#### It indicates that the variable has a significant relationship with \n",
    "#### the dependent variable (credit card charges) in the regression model."
   ]
  },
  {
   "cell_type": "code",
   "execution_count": null,
   "metadata": {},
   "outputs": [],
   "source": []
  },
  {
   "cell_type": "code",
   "execution_count": null,
   "metadata": {},
   "outputs": [],
   "source": []
  },
  {
   "cell_type": "markdown",
   "metadata": {},
   "source": [
    "##### Create a multiple linear regression model using annual household income, the number of members\n",
    "##### in the customer’s household, and the number of years of post-high school education as independent\n",
    "##### variables"
   ]
  },
  {
   "cell_type": "code",
   "execution_count": 53,
   "metadata": {},
   "outputs": [
    {
     "data": {
      "text/html": [
       "<div>\n",
       "<style scoped>\n",
       "    .dataframe tbody tr th:only-of-type {\n",
       "        vertical-align: middle;\n",
       "    }\n",
       "\n",
       "    .dataframe tbody tr th {\n",
       "        vertical-align: top;\n",
       "    }\n",
       "\n",
       "    .dataframe thead th {\n",
       "        text-align: right;\n",
       "    }\n",
       "</style>\n",
       "<table border=\"1\" class=\"dataframe\">\n",
       "  <thead>\n",
       "    <tr style=\"text-align: right;\">\n",
       "      <th></th>\n",
       "      <th>Account Number</th>\n",
       "      <th>Annual Charges ($)</th>\n",
       "      <th>Annual Income ($1000)</th>\n",
       "      <th>Household Size</th>\n",
       "      <th>Years of Post-High School Education</th>\n",
       "      <th>Hours Per Week Watching Television</th>\n",
       "      <th>Age</th>\n",
       "      <th>Gender</th>\n",
       "      <th>Exceeded Credit Limit in Past 12 Months?</th>\n",
       "    </tr>\n",
       "  </thead>\n",
       "  <tbody>\n",
       "    <tr>\n",
       "      <th>0</th>\n",
       "      <td>1260688</td>\n",
       "      <td>10230.19</td>\n",
       "      <td>42.4</td>\n",
       "      <td>3</td>\n",
       "      <td>3</td>\n",
       "      <td>15</td>\n",
       "      <td>24</td>\n",
       "      <td>Male</td>\n",
       "      <td>No</td>\n",
       "    </tr>\n",
       "    <tr>\n",
       "      <th>1</th>\n",
       "      <td>3159700</td>\n",
       "      <td>18697.50</td>\n",
       "      <td>103.0</td>\n",
       "      <td>5</td>\n",
       "      <td>2</td>\n",
       "      <td>39</td>\n",
       "      <td>39</td>\n",
       "      <td>Female</td>\n",
       "      <td>Yes</td>\n",
       "    </tr>\n",
       "    <tr>\n",
       "      <th>2</th>\n",
       "      <td>3977101</td>\n",
       "      <td>18149.15</td>\n",
       "      <td>84.4</td>\n",
       "      <td>7</td>\n",
       "      <td>2</td>\n",
       "      <td>37</td>\n",
       "      <td>25</td>\n",
       "      <td>Male</td>\n",
       "      <td>No</td>\n",
       "    </tr>\n",
       "    <tr>\n",
       "      <th>3</th>\n",
       "      <td>16620929</td>\n",
       "      <td>8040.15</td>\n",
       "      <td>37.0</td>\n",
       "      <td>3</td>\n",
       "      <td>4</td>\n",
       "      <td>58</td>\n",
       "      <td>37</td>\n",
       "      <td>Female</td>\n",
       "      <td>No</td>\n",
       "    </tr>\n",
       "    <tr>\n",
       "      <th>4</th>\n",
       "      <td>6504217</td>\n",
       "      <td>9695.48</td>\n",
       "      <td>109.7</td>\n",
       "      <td>5</td>\n",
       "      <td>3</td>\n",
       "      <td>0</td>\n",
       "      <td>39</td>\n",
       "      <td>Female</td>\n",
       "      <td>No</td>\n",
       "    </tr>\n",
       "  </tbody>\n",
       "</table>\n",
       "</div>"
      ],
      "text/plain": [
       "   Account Number  Annual Charges ($)  Annual Income ($1000)  Household Size  \\\n",
       "0         1260688            10230.19                   42.4               3   \n",
       "1         3159700            18697.50                  103.0               5   \n",
       "2         3977101            18149.15                   84.4               7   \n",
       "3        16620929             8040.15                   37.0               3   \n",
       "4         6504217             9695.48                  109.7               5   \n",
       "\n",
       "   Years of Post-High School Education  Hours Per Week Watching Television  \\\n",
       "0                                    3                                  15   \n",
       "1                                    2                                  39   \n",
       "2                                    2                                  37   \n",
       "3                                    4                                  58   \n",
       "4                                    3                                   0   \n",
       "\n",
       "   Age  Gender Exceeded Credit Limit in Past 12 Months?  \n",
       "0   24    Male                                       No  \n",
       "1   39  Female                                      Yes  \n",
       "2   25    Male                                       No  \n",
       "3   37  Female                                       No  \n",
       "4   39  Female                                       No  "
      ]
     },
     "execution_count": 53,
     "metadata": {},
     "output_type": "execute_result"
    }
   ],
   "source": [
    "data.head()"
   ]
  },
  {
   "cell_type": "code",
   "execution_count": 54,
   "metadata": {},
   "outputs": [],
   "source": [
    "cd=data[['Annual Income ($1000)','Household Size','Years of Post-High School Education',]]"
   ]
  },
  {
   "cell_type": "code",
   "execution_count": 55,
   "metadata": {},
   "outputs": [
    {
     "data": {
      "text/html": [
       "<div>\n",
       "<style scoped>\n",
       "    .dataframe tbody tr th:only-of-type {\n",
       "        vertical-align: middle;\n",
       "    }\n",
       "\n",
       "    .dataframe tbody tr th {\n",
       "        vertical-align: top;\n",
       "    }\n",
       "\n",
       "    .dataframe thead th {\n",
       "        text-align: right;\n",
       "    }\n",
       "</style>\n",
       "<table border=\"1\" class=\"dataframe\">\n",
       "  <thead>\n",
       "    <tr style=\"text-align: right;\">\n",
       "      <th></th>\n",
       "      <th>Annual Income ($1000)</th>\n",
       "      <th>Household Size</th>\n",
       "      <th>Years of Post-High School Education</th>\n",
       "    </tr>\n",
       "  </thead>\n",
       "  <tbody>\n",
       "    <tr>\n",
       "      <th>0</th>\n",
       "      <td>42.4</td>\n",
       "      <td>3</td>\n",
       "      <td>3</td>\n",
       "    </tr>\n",
       "    <tr>\n",
       "      <th>1</th>\n",
       "      <td>103.0</td>\n",
       "      <td>5</td>\n",
       "      <td>2</td>\n",
       "    </tr>\n",
       "    <tr>\n",
       "      <th>2</th>\n",
       "      <td>84.4</td>\n",
       "      <td>7</td>\n",
       "      <td>2</td>\n",
       "    </tr>\n",
       "    <tr>\n",
       "      <th>3</th>\n",
       "      <td>37.0</td>\n",
       "      <td>3</td>\n",
       "      <td>4</td>\n",
       "    </tr>\n",
       "    <tr>\n",
       "      <th>4</th>\n",
       "      <td>109.7</td>\n",
       "      <td>5</td>\n",
       "      <td>3</td>\n",
       "    </tr>\n",
       "  </tbody>\n",
       "</table>\n",
       "</div>"
      ],
      "text/plain": [
       "   Annual Income ($1000)  Household Size  Years of Post-High School Education\n",
       "0                   42.4               3                                    3\n",
       "1                  103.0               5                                    2\n",
       "2                   84.4               7                                    2\n",
       "3                   37.0               3                                    4\n",
       "4                  109.7               5                                    3"
      ]
     },
     "execution_count": 55,
     "metadata": {},
     "output_type": "execute_result"
    }
   ],
   "source": [
    "cd.head()"
   ]
  },
  {
   "cell_type": "code",
   "execution_count": 56,
   "metadata": {},
   "outputs": [],
   "source": [
    "X=cd\n",
    "y=data['Annual Charges ($)']"
   ]
  },
  {
   "cell_type": "code",
   "execution_count": 57,
   "metadata": {},
   "outputs": [
    {
     "data": {
      "text/plain": [
       "LinearRegression()"
      ]
     },
     "execution_count": 57,
     "metadata": {},
     "output_type": "execute_result"
    }
   ],
   "source": [
    "from sklearn.model_selection import train_test_split\n",
    "X_train, X_test, y_train, y_test = train_test_split(X, y, test_size=0.33, random_state=101)\n",
    "from sklearn.linear_model import LinearRegression\n",
    "lin_model=LinearRegression()\n",
    "lin_model.fit(X,y)"
   ]
  },
  {
   "cell_type": "code",
   "execution_count": 58,
   "metadata": {},
   "outputs": [
    {
     "data": {
      "text/plain": [
       "array([ 117.71874793,  552.62336363, -333.22102017])"
      ]
     },
     "execution_count": 58,
     "metadata": {},
     "output_type": "execute_result"
    }
   ],
   "source": [
    "lin_model.coef_"
   ]
  },
  {
   "cell_type": "code",
   "execution_count": 59,
   "metadata": {},
   "outputs": [],
   "source": [
    "multiple_income_slope=lin_model.coef_[0]\n",
    "multiple_householde_slope=lin_model.coef_[1]\n",
    "multiple_education_slope=lin_model.coef_[2]\n",
    "\n"
   ]
  },
  {
   "cell_type": "code",
   "execution_count": 60,
   "metadata": {},
   "outputs": [],
   "source": [
    "income_slope=119.76625096552402\n",
    "household_slope= 722.2850690645337\n",
    "education_slope=-234.53729574273262"
   ]
  },
  {
   "cell_type": "code",
   "execution_count": 61,
   "metadata": {},
   "outputs": [
    {
     "name": "stdout",
     "output_type": "stream",
     "text": [
      "Slope Income(Simple model) 119.76625096552402\n",
      "Slope household(Simple model) 722.2850690645337\n",
      "Slope education(Simple model) -234.53729574273262\n",
      "\n",
      "\n",
      "Slope Income (Multiple) 117.71874792542987\n",
      "Slope Household (Multiple) 552.6233636293871\n",
      "Slope education slope (Multiple) -333.22102017284215\n"
     ]
    }
   ],
   "source": [
    "print('Slope Income(Simple model)',income_slope)\n",
    "print('Slope household(Simple model)',household_slope)\n",
    "print('Slope education(Simple model)',education_slope)\n",
    "print('\\n')\n",
    "print('Slope Income (Multiple)', multiple_income_slope)\n",
    "print('Slope Household (Multiple)', multiple_householde_slope)\n",
    "print('Slope education slope (Multiple)', multiple_education_slope)\n",
    "\n",
    "\n",
    "\n"
   ]
  },
  {
   "cell_type": "code",
   "execution_count": 62,
   "metadata": {},
   "outputs": [],
   "source": [
    "multiple_r_squared=lin_model.score(X,y)"
   ]
  },
  {
   "cell_type": "code",
   "execution_count": 63,
   "metadata": {},
   "outputs": [
    {
     "data": {
      "text/plain": [
       "0.3423387194011349"
      ]
     },
     "execution_count": 63,
     "metadata": {},
     "output_type": "execute_result"
    }
   ],
   "source": [
    "multiple_r_squared"
   ]
  },
  {
   "cell_type": "markdown",
   "metadata": {},
   "source": [
    "##### b) What does this tell you about multicollinearity in the multiple regression model?"
   ]
  },
  {
   "cell_type": "markdown",
   "metadata": {},
   "source": [
    "##### Multicollinearity refers to a situation where there is a high correlation between two\n",
    "##### or more independent variables in a multiple regression model\n",
    "##### high correlations (close to 1 or -1) between any pairs of independent variables, it suggests multicollinearity."
   ]
  },
  {
   "cell_type": "code",
   "execution_count": 64,
   "metadata": {},
   "outputs": [
    {
     "data": {
      "text/plain": [
       "<AxesSubplot:>"
      ]
     },
     "execution_count": 64,
     "metadata": {},
     "output_type": "execute_result"
    },
    {
     "data": {
      "image/png": "[encoded data removed]",
      "text/plain": [
       "<Figure size 720x576 with 2 Axes>"
      ]
     },
     "metadata": {
      "needs_background": "light"
     },
     "output_type": "display_data"
    }
   ],
   "source": [
    "fig=py.figure(figsize=(10,8))\n",
    "import seaborn as sns\n",
    "sns.heatmap(cd.corr(), annot=True,cmap='coolwarm')"
   ]
  },
  {
   "cell_type": "code",
   "execution_count": 65,
   "metadata": {},
   "outputs": [],
   "source": [
    "#Add the coefficients of determination from the 3 simple linear regression models together\n",
    "#and compare the result to the coefficient of determination for the multiple regression model."
   ]
  },
  {
   "cell_type": "code",
   "execution_count": 66,
   "metadata": {},
   "outputs": [],
   "source": [
    "r_square_simple=rsquared_income + r_squared_household+r_squared_education\n",
    "r_square_multiple=multiple_r_squared"
   ]
  },
  {
   "cell_type": "code",
   "execution_count": 67,
   "metadata": {},
   "outputs": [
    {
     "name": "stdout",
     "output_type": "stream",
     "text": [
      "rsquared simple 0.35372275606797443\n",
      "rquared multiple 0.3423387194011349\n"
     ]
    }
   ],
   "source": [
    "print('rsquared simple',r_square_simple)\n",
    "print('rquared multiple',multiple_r_squared)"
   ]
  },
  {
   "cell_type": "markdown",
   "metadata": {},
   "source": [
    "###### If the combined R-squared value from the simple linear regression models is very close to or higher than\n",
    "##### the R-squared value from the multiple regression model, it suggests that the individual independent variables in\n",
    "##### the simple linear regression models are highly correlated with the dependent variable and \n",
    "##### do not have substantial collinearity with each other. \n",
    "##### In such cases, multicollinearity may not be a significant concern"
   ]
  },
  {
   "cell_type": "code",
   "execution_count": null,
   "metadata": {},
   "outputs": [],
   "source": []
  },
  {
   "cell_type": "markdown",
   "metadata": {},
   "source": [
    "#### ) 6 Add the variables ‘Gender’ and ‘Exceeded Credit Limit in Past 12 Months?’ to your multiple regression model"
   ]
  },
  {
   "cell_type": "code",
   "execution_count": 68,
   "metadata": {},
   "outputs": [],
   "source": [
    "cd['Gender']=data['Gender']\n",
    "cd['Exceeded Credit Limit in Past 12 Months?']=data['Exceeded Credit Limit in Past 12 Months?']"
   ]
  },
  {
   "cell_type": "code",
   "execution_count": 69,
   "metadata": {},
   "outputs": [
    {
     "data": {
      "text/html": [
       "<div>\n",
       "<style scoped>\n",
       "    .dataframe tbody tr th:only-of-type {\n",
       "        vertical-align: middle;\n",
       "    }\n",
       "\n",
       "    .dataframe tbody tr th {\n",
       "        vertical-align: top;\n",
       "    }\n",
       "\n",
       "    .dataframe thead th {\n",
       "        text-align: right;\n",
       "    }\n",
       "</style>\n",
       "<table border=\"1\" class=\"dataframe\">\n",
       "  <thead>\n",
       "    <tr style=\"text-align: right;\">\n",
       "      <th></th>\n",
       "      <th>Annual Income ($1000)</th>\n",
       "      <th>Household Size</th>\n",
       "      <th>Years of Post-High School Education</th>\n",
       "      <th>Gender</th>\n",
       "      <th>Exceeded Credit Limit in Past 12 Months?</th>\n",
       "    </tr>\n",
       "  </thead>\n",
       "  <tbody>\n",
       "    <tr>\n",
       "      <th>0</th>\n",
       "      <td>42.4</td>\n",
       "      <td>3</td>\n",
       "      <td>3</td>\n",
       "      <td>Male</td>\n",
       "      <td>No</td>\n",
       "    </tr>\n",
       "    <tr>\n",
       "      <th>1</th>\n",
       "      <td>103.0</td>\n",
       "      <td>5</td>\n",
       "      <td>2</td>\n",
       "      <td>Female</td>\n",
       "      <td>Yes</td>\n",
       "    </tr>\n",
       "    <tr>\n",
       "      <th>2</th>\n",
       "      <td>84.4</td>\n",
       "      <td>7</td>\n",
       "      <td>2</td>\n",
       "      <td>Male</td>\n",
       "      <td>No</td>\n",
       "    </tr>\n",
       "    <tr>\n",
       "      <th>3</th>\n",
       "      <td>37.0</td>\n",
       "      <td>3</td>\n",
       "      <td>4</td>\n",
       "      <td>Female</td>\n",
       "      <td>No</td>\n",
       "    </tr>\n",
       "    <tr>\n",
       "      <th>4</th>\n",
       "      <td>109.7</td>\n",
       "      <td>5</td>\n",
       "      <td>3</td>\n",
       "      <td>Female</td>\n",
       "      <td>No</td>\n",
       "    </tr>\n",
       "  </tbody>\n",
       "</table>\n",
       "</div>"
      ],
      "text/plain": [
       "   Annual Income ($1000)  Household Size  Years of Post-High School Education  \\\n",
       "0                   42.4               3                                    3   \n",
       "1                  103.0               5                                    2   \n",
       "2                   84.4               7                                    2   \n",
       "3                   37.0               3                                    4   \n",
       "4                  109.7               5                                    3   \n",
       "\n",
       "   Gender Exceeded Credit Limit in Past 12 Months?  \n",
       "0    Male                                       No  \n",
       "1  Female                                      Yes  \n",
       "2    Male                                       No  \n",
       "3  Female                                       No  \n",
       "4  Female                                       No  "
      ]
     },
     "execution_count": 69,
     "metadata": {},
     "output_type": "execute_result"
    }
   ],
   "source": [
    "cd.head()"
   ]
  },
  {
   "cell_type": "code",
   "execution_count": 70,
   "metadata": {},
   "outputs": [],
   "source": [
    "def convert(gender):\n",
    "    if gender=='Male':\n",
    "        return 1\n",
    "    else:\n",
    "        return 0"
   ]
  },
  {
   "cell_type": "code",
   "execution_count": 71,
   "metadata": {},
   "outputs": [],
   "source": [
    "cd['Gender']=cd['Gender'].apply(convert)"
   ]
  },
  {
   "cell_type": "code",
   "execution_count": 72,
   "metadata": {},
   "outputs": [
    {
     "data": {
      "text/html": [
       "<div>\n",
       "<style scoped>\n",
       "    .dataframe tbody tr th:only-of-type {\n",
       "        vertical-align: middle;\n",
       "    }\n",
       "\n",
       "    .dataframe tbody tr th {\n",
       "        vertical-align: top;\n",
       "    }\n",
       "\n",
       "    .dataframe thead th {\n",
       "        text-align: right;\n",
       "    }\n",
       "</style>\n",
       "<table border=\"1\" class=\"dataframe\">\n",
       "  <thead>\n",
       "    <tr style=\"text-align: right;\">\n",
       "      <th></th>\n",
       "      <th>Annual Income ($1000)</th>\n",
       "      <th>Household Size</th>\n",
       "      <th>Years of Post-High School Education</th>\n",
       "      <th>Gender</th>\n",
       "      <th>Exceeded Credit Limit in Past 12 Months?</th>\n",
       "    </tr>\n",
       "  </thead>\n",
       "  <tbody>\n",
       "    <tr>\n",
       "      <th>0</th>\n",
       "      <td>42.4</td>\n",
       "      <td>3</td>\n",
       "      <td>3</td>\n",
       "      <td>1</td>\n",
       "      <td>No</td>\n",
       "    </tr>\n",
       "    <tr>\n",
       "      <th>1</th>\n",
       "      <td>103.0</td>\n",
       "      <td>5</td>\n",
       "      <td>2</td>\n",
       "      <td>0</td>\n",
       "      <td>Yes</td>\n",
       "    </tr>\n",
       "    <tr>\n",
       "      <th>2</th>\n",
       "      <td>84.4</td>\n",
       "      <td>7</td>\n",
       "      <td>2</td>\n",
       "      <td>1</td>\n",
       "      <td>No</td>\n",
       "    </tr>\n",
       "    <tr>\n",
       "      <th>3</th>\n",
       "      <td>37.0</td>\n",
       "      <td>3</td>\n",
       "      <td>4</td>\n",
       "      <td>0</td>\n",
       "      <td>No</td>\n",
       "    </tr>\n",
       "    <tr>\n",
       "      <th>4</th>\n",
       "      <td>109.7</td>\n",
       "      <td>5</td>\n",
       "      <td>3</td>\n",
       "      <td>0</td>\n",
       "      <td>No</td>\n",
       "    </tr>\n",
       "    <tr>\n",
       "      <th>...</th>\n",
       "      <td>...</td>\n",
       "      <td>...</td>\n",
       "      <td>...</td>\n",
       "      <td>...</td>\n",
       "      <td>...</td>\n",
       "    </tr>\n",
       "    <tr>\n",
       "      <th>388</th>\n",
       "      <td>70.3</td>\n",
       "      <td>5</td>\n",
       "      <td>4</td>\n",
       "      <td>0</td>\n",
       "      <td>No</td>\n",
       "    </tr>\n",
       "    <tr>\n",
       "      <th>389</th>\n",
       "      <td>15.4</td>\n",
       "      <td>7</td>\n",
       "      <td>1</td>\n",
       "      <td>1</td>\n",
       "      <td>No</td>\n",
       "    </tr>\n",
       "    <tr>\n",
       "      <th>390</th>\n",
       "      <td>31.4</td>\n",
       "      <td>7</td>\n",
       "      <td>3</td>\n",
       "      <td>0</td>\n",
       "      <td>No</td>\n",
       "    </tr>\n",
       "    <tr>\n",
       "      <th>391</th>\n",
       "      <td>73.8</td>\n",
       "      <td>5</td>\n",
       "      <td>0</td>\n",
       "      <td>1</td>\n",
       "      <td>No</td>\n",
       "    </tr>\n",
       "    <tr>\n",
       "      <th>392</th>\n",
       "      <td>71.4</td>\n",
       "      <td>6</td>\n",
       "      <td>4</td>\n",
       "      <td>1</td>\n",
       "      <td>No</td>\n",
       "    </tr>\n",
       "  </tbody>\n",
       "</table>\n",
       "<p>393 rows × 5 columns</p>\n",
       "</div>"
      ],
      "text/plain": [
       "     Annual Income ($1000)  Household Size  \\\n",
       "0                     42.4               3   \n",
       "1                    103.0               5   \n",
       "2                     84.4               7   \n",
       "3                     37.0               3   \n",
       "4                    109.7               5   \n",
       "..                     ...             ...   \n",
       "388                   70.3               5   \n",
       "389                   15.4               7   \n",
       "390                   31.4               7   \n",
       "391                   73.8               5   \n",
       "392                   71.4               6   \n",
       "\n",
       "     Years of Post-High School Education  Gender  \\\n",
       "0                                      3       1   \n",
       "1                                      2       0   \n",
       "2                                      2       1   \n",
       "3                                      4       0   \n",
       "4                                      3       0   \n",
       "..                                   ...     ...   \n",
       "388                                    4       0   \n",
       "389                                    1       1   \n",
       "390                                    3       0   \n",
       "391                                    0       1   \n",
       "392                                    4       1   \n",
       "\n",
       "    Exceeded Credit Limit in Past 12 Months?  \n",
       "0                                         No  \n",
       "1                                        Yes  \n",
       "2                                         No  \n",
       "3                                         No  \n",
       "4                                         No  \n",
       "..                                       ...  \n",
       "388                                       No  \n",
       "389                                       No  \n",
       "390                                       No  \n",
       "391                                       No  \n",
       "392                                       No  \n",
       "\n",
       "[393 rows x 5 columns]"
      ]
     },
     "execution_count": 72,
     "metadata": {},
     "output_type": "execute_result"
    }
   ],
   "source": [
    "cd"
   ]
  },
  {
   "cell_type": "code",
   "execution_count": 73,
   "metadata": {},
   "outputs": [],
   "source": [
    "credit=pd.get_dummies(cd['Exceeded Credit Limit in Past 12 Months?'],drop_first=1)"
   ]
  },
  {
   "cell_type": "code",
   "execution_count": 74,
   "metadata": {},
   "outputs": [],
   "source": [
    "cd['Exceeded Credit Limit in Past 12 Months?']=credit"
   ]
  },
  {
   "cell_type": "code",
   "execution_count": 75,
   "metadata": {},
   "outputs": [
    {
     "data": {
      "text/html": [
       "<div>\n",
       "<style scoped>\n",
       "    .dataframe tbody tr th:only-of-type {\n",
       "        vertical-align: middle;\n",
       "    }\n",
       "\n",
       "    .dataframe tbody tr th {\n",
       "        vertical-align: top;\n",
       "    }\n",
       "\n",
       "    .dataframe thead th {\n",
       "        text-align: right;\n",
       "    }\n",
       "</style>\n",
       "<table border=\"1\" class=\"dataframe\">\n",
       "  <thead>\n",
       "    <tr style=\"text-align: right;\">\n",
       "      <th></th>\n",
       "      <th>Annual Income ($1000)</th>\n",
       "      <th>Household Size</th>\n",
       "      <th>Years of Post-High School Education</th>\n",
       "      <th>Gender</th>\n",
       "      <th>Exceeded Credit Limit in Past 12 Months?</th>\n",
       "    </tr>\n",
       "  </thead>\n",
       "  <tbody>\n",
       "    <tr>\n",
       "      <th>0</th>\n",
       "      <td>42.4</td>\n",
       "      <td>3</td>\n",
       "      <td>3</td>\n",
       "      <td>1</td>\n",
       "      <td>0</td>\n",
       "    </tr>\n",
       "    <tr>\n",
       "      <th>1</th>\n",
       "      <td>103.0</td>\n",
       "      <td>5</td>\n",
       "      <td>2</td>\n",
       "      <td>0</td>\n",
       "      <td>1</td>\n",
       "    </tr>\n",
       "    <tr>\n",
       "      <th>2</th>\n",
       "      <td>84.4</td>\n",
       "      <td>7</td>\n",
       "      <td>2</td>\n",
       "      <td>1</td>\n",
       "      <td>0</td>\n",
       "    </tr>\n",
       "    <tr>\n",
       "      <th>3</th>\n",
       "      <td>37.0</td>\n",
       "      <td>3</td>\n",
       "      <td>4</td>\n",
       "      <td>0</td>\n",
       "      <td>0</td>\n",
       "    </tr>\n",
       "    <tr>\n",
       "      <th>4</th>\n",
       "      <td>109.7</td>\n",
       "      <td>5</td>\n",
       "      <td>3</td>\n",
       "      <td>0</td>\n",
       "      <td>0</td>\n",
       "    </tr>\n",
       "  </tbody>\n",
       "</table>\n",
       "</div>"
      ],
      "text/plain": [
       "   Annual Income ($1000)  Household Size  Years of Post-High School Education  \\\n",
       "0                   42.4               3                                    3   \n",
       "1                  103.0               5                                    2   \n",
       "2                   84.4               7                                    2   \n",
       "3                   37.0               3                                    4   \n",
       "4                  109.7               5                                    3   \n",
       "\n",
       "   Gender  Exceeded Credit Limit in Past 12 Months?  \n",
       "0       1                                         0  \n",
       "1       0                                         1  \n",
       "2       1                                         0  \n",
       "3       0                                         0  \n",
       "4       0                                         0  "
      ]
     },
     "execution_count": 75,
     "metadata": {},
     "output_type": "execute_result"
    }
   ],
   "source": [
    "cd.head()"
   ]
  },
  {
   "cell_type": "code",
   "execution_count": 76,
   "metadata": {},
   "outputs": [],
   "source": [
    "X=cd\n",
    "y=data['Annual Charges ($)']\n",
    "X_train, X_test, y_train, y_test = train_test_split(X, y, test_size=0.33, random_state=42)"
   ]
  },
  {
   "cell_type": "code",
   "execution_count": 77,
   "metadata": {},
   "outputs": [
    {
     "data": {
      "text/plain": [
       "LinearRegression()"
      ]
     },
     "execution_count": 77,
     "metadata": {},
     "output_type": "execute_result"
    }
   ],
   "source": [
    "from sklearn.linear_model import LinearRegression\n",
    "model_linear_multiple=LinearRegression()\n",
    "model_linear_multiple.fit(X,y)"
   ]
  },
  {
   "cell_type": "code",
   "execution_count": 78,
   "metadata": {},
   "outputs": [
    {
     "data": {
      "text/plain": [
       "array([ 117.65904526,  562.58652688, -327.23196251,  903.93900983,\n",
       "       1074.24543825])"
      ]
     },
     "execution_count": 78,
     "metadata": {},
     "output_type": "execute_result"
    }
   ],
   "source": [
    "model_linear_multiple.coef_"
   ]
  },
  {
   "cell_type": "code",
   "execution_count": 79,
   "metadata": {},
   "outputs": [
    {
     "data": {
      "text/plain": [
       "659.1476514450569"
      ]
     },
     "execution_count": 79,
     "metadata": {},
     "output_type": "execute_result"
    }
   ],
   "source": [
    "model_linear_multiple.intercept_"
   ]
  },
  {
   "cell_type": "code",
   "execution_count": 80,
   "metadata": {},
   "outputs": [],
   "source": [
    "r_squared_multuple_2=model_linear_multiple.score(X,y)"
   ]
  },
  {
   "cell_type": "code",
   "execution_count": 81,
   "metadata": {},
   "outputs": [
    {
     "data": {
      "text/plain": [
       "0.3423387194011349"
      ]
     },
     "execution_count": 81,
     "metadata": {},
     "output_type": "execute_result"
    }
   ],
   "source": [
    "r_square_multiple"
   ]
  },
  {
   "cell_type": "code",
   "execution_count": 82,
   "metadata": {},
   "outputs": [
    {
     "name": "stdout",
     "output_type": "stream",
     "text": [
      "rsquare before adding new variable  0.3423387194011349\n"
     ]
    }
   ],
   "source": [
    "print('rsquare before adding new variable ',r_square_multiple)"
   ]
  },
  {
   "cell_type": "code",
   "execution_count": 83,
   "metadata": {},
   "outputs": [
    {
     "name": "stdout",
     "output_type": "stream",
     "text": [
      "rsquare after adding new variable 0.3504781079193311\n"
     ]
    }
   ],
   "source": [
    "print('rsquare after adding new variable',r_squared_multuple_2)"
   ]
  },
  {
   "cell_type": "code",
   "execution_count": 84,
   "metadata": {},
   "outputs": [],
   "source": [
    "# Annual Income ($1000):\n",
    "# Stay in the model: Annual income is often an important predictor of credit card charges. \n",
    "# If it has a significant impact on the dependent variable and is practically relevant in the context of the problem, \n",
    "# it should be included.\n",
    "\n",
    "# Household Size:\n",
    "# Stay in the model: Household size can influence the spending behavior and financial dynamics of a family. \n",
    "# If it is statistically significant and has a meaningful impact on the dependent variable, it should be retained.\n",
    "\n",
    "    \n",
    "# Education Years:\n",
    "# Stay in the model: Education years may indicate individuals earning potential, financial literacy, \n",
    "# or socioeconomic background.If it is statistically significant and has a significant influence on the dependent variable,\n",
    "#it should be kept.\n",
    "\n",
    "# Gender_Male:\n",
    "# Remove from the model: Gender may not have a direct influence on credit card charges unless \n",
    "# there are specific gender-related spending patterns or financial behaviors\n",
    "# that are relevant to the problem. If it is not statistically significant and does not\n",
    "# contribute meaningfully to explaining the variation in the dependent variable, it can be removed.\n",
    "\n",
    "# Exceeded Credit Limit in Past 12 Months?_Yes:\n",
    "# Stay or remove based on context: The relevance of this variable depends on the research question or problem at hand.\n",
    "# If determining whether past credit limit breaches impact current credit card charges is of interest, \n",
    "# this variable should stay if it is statistically significant. Otherwise,\n",
    "# if it is not statistically significant or not practically relevant, it can be removed."
   ]
  },
  {
   "cell_type": "code",
   "execution_count": null,
   "metadata": {},
   "outputs": [],
   "source": []
  },
  {
   "cell_type": "code",
   "execution_count": 85,
   "metadata": {},
   "outputs": [
    {
     "data": {
      "text/html": [
       "<div>\n",
       "<style scoped>\n",
       "    .dataframe tbody tr th:only-of-type {\n",
       "        vertical-align: middle;\n",
       "    }\n",
       "\n",
       "    .dataframe tbody tr th {\n",
       "        vertical-align: top;\n",
       "    }\n",
       "\n",
       "    .dataframe thead th {\n",
       "        text-align: right;\n",
       "    }\n",
       "</style>\n",
       "<table border=\"1\" class=\"dataframe\">\n",
       "  <thead>\n",
       "    <tr style=\"text-align: right;\">\n",
       "      <th></th>\n",
       "      <th>Account Number</th>\n",
       "      <th>Annual Charges ($)</th>\n",
       "      <th>Annual Income ($1000)</th>\n",
       "      <th>Household Size</th>\n",
       "      <th>Years of Post-High School Education</th>\n",
       "      <th>Hours Per Week Watching Television</th>\n",
       "      <th>Age</th>\n",
       "      <th>Gender</th>\n",
       "      <th>Exceeded Credit Limit in Past 12 Months?</th>\n",
       "    </tr>\n",
       "  </thead>\n",
       "  <tbody>\n",
       "    <tr>\n",
       "      <th>0</th>\n",
       "      <td>1260688</td>\n",
       "      <td>10230.19</td>\n",
       "      <td>42.4</td>\n",
       "      <td>3</td>\n",
       "      <td>3</td>\n",
       "      <td>15</td>\n",
       "      <td>24</td>\n",
       "      <td>Male</td>\n",
       "      <td>No</td>\n",
       "    </tr>\n",
       "    <tr>\n",
       "      <th>1</th>\n",
       "      <td>3159700</td>\n",
       "      <td>18697.50</td>\n",
       "      <td>103.0</td>\n",
       "      <td>5</td>\n",
       "      <td>2</td>\n",
       "      <td>39</td>\n",
       "      <td>39</td>\n",
       "      <td>Female</td>\n",
       "      <td>Yes</td>\n",
       "    </tr>\n",
       "    <tr>\n",
       "      <th>2</th>\n",
       "      <td>3977101</td>\n",
       "      <td>18149.15</td>\n",
       "      <td>84.4</td>\n",
       "      <td>7</td>\n",
       "      <td>2</td>\n",
       "      <td>37</td>\n",
       "      <td>25</td>\n",
       "      <td>Male</td>\n",
       "      <td>No</td>\n",
       "    </tr>\n",
       "    <tr>\n",
       "      <th>3</th>\n",
       "      <td>16620929</td>\n",
       "      <td>8040.15</td>\n",
       "      <td>37.0</td>\n",
       "      <td>3</td>\n",
       "      <td>4</td>\n",
       "      <td>58</td>\n",
       "      <td>37</td>\n",
       "      <td>Female</td>\n",
       "      <td>No</td>\n",
       "    </tr>\n",
       "    <tr>\n",
       "      <th>4</th>\n",
       "      <td>6504217</td>\n",
       "      <td>9695.48</td>\n",
       "      <td>109.7</td>\n",
       "      <td>5</td>\n",
       "      <td>3</td>\n",
       "      <td>0</td>\n",
       "      <td>39</td>\n",
       "      <td>Female</td>\n",
       "      <td>No</td>\n",
       "    </tr>\n",
       "  </tbody>\n",
       "</table>\n",
       "</div>"
      ],
      "text/plain": [
       "   Account Number  Annual Charges ($)  Annual Income ($1000)  Household Size  \\\n",
       "0         1260688            10230.19                   42.4               3   \n",
       "1         3159700            18697.50                  103.0               5   \n",
       "2         3977101            18149.15                   84.4               7   \n",
       "3        16620929             8040.15                   37.0               3   \n",
       "4         6504217             9695.48                  109.7               5   \n",
       "\n",
       "   Years of Post-High School Education  Hours Per Week Watching Television  \\\n",
       "0                                    3                                  15   \n",
       "1                                    2                                  39   \n",
       "2                                    2                                  37   \n",
       "3                                    4                                  58   \n",
       "4                                    3                                   0   \n",
       "\n",
       "   Age  Gender Exceeded Credit Limit in Past 12 Months?  \n",
       "0   24    Male                                       No  \n",
       "1   39  Female                                      Yes  \n",
       "2   25    Male                                       No  \n",
       "3   37  Female                                       No  \n",
       "4   39  Female                                       No  "
      ]
     },
     "execution_count": 85,
     "metadata": {},
     "output_type": "execute_result"
    }
   ],
   "source": [
    "#7\n",
    "data.head()"
   ]
  },
  {
   "cell_type": "code",
   "execution_count": 86,
   "metadata": {},
   "outputs": [
    {
     "data": {
      "text/html": [
       "<div>\n",
       "<style scoped>\n",
       "    .dataframe tbody tr th:only-of-type {\n",
       "        vertical-align: middle;\n",
       "    }\n",
       "\n",
       "    .dataframe tbody tr th {\n",
       "        vertical-align: top;\n",
       "    }\n",
       "\n",
       "    .dataframe thead th {\n",
       "        text-align: right;\n",
       "    }\n",
       "</style>\n",
       "<table border=\"1\" class=\"dataframe\">\n",
       "  <thead>\n",
       "    <tr style=\"text-align: right;\">\n",
       "      <th></th>\n",
       "      <th>Account Number</th>\n",
       "      <th>Annual Charges ($)</th>\n",
       "      <th>Annual Income ($1000)</th>\n",
       "      <th>Household Size</th>\n",
       "      <th>Years of Post-High School Education</th>\n",
       "      <th>Hours Per Week Watching Television</th>\n",
       "      <th>Age</th>\n",
       "      <th>Gender</th>\n",
       "      <th>Exceeded Credit Limit in Past 12 Months?</th>\n",
       "    </tr>\n",
       "  </thead>\n",
       "  <tbody>\n",
       "    <tr>\n",
       "      <th>0</th>\n",
       "      <td>1260688</td>\n",
       "      <td>10230.19</td>\n",
       "      <td>42.4</td>\n",
       "      <td>3</td>\n",
       "      <td>3</td>\n",
       "      <td>15</td>\n",
       "      <td>24</td>\n",
       "      <td>Male</td>\n",
       "      <td>No</td>\n",
       "    </tr>\n",
       "    <tr>\n",
       "      <th>1</th>\n",
       "      <td>3159700</td>\n",
       "      <td>18697.50</td>\n",
       "      <td>103.0</td>\n",
       "      <td>5</td>\n",
       "      <td>2</td>\n",
       "      <td>39</td>\n",
       "      <td>39</td>\n",
       "      <td>Female</td>\n",
       "      <td>Yes</td>\n",
       "    </tr>\n",
       "  </tbody>\n",
       "</table>\n",
       "</div>"
      ],
      "text/plain": [
       "   Account Number  Annual Charges ($)  Annual Income ($1000)  Household Size  \\\n",
       "0         1260688            10230.19                   42.4               3   \n",
       "1         3159700            18697.50                  103.0               5   \n",
       "\n",
       "   Years of Post-High School Education  Hours Per Week Watching Television  \\\n",
       "0                                    3                                  15   \n",
       "1                                    2                                  39   \n",
       "\n",
       "   Age  Gender Exceeded Credit Limit in Past 12 Months?  \n",
       "0   24    Male                                       No  \n",
       "1   39  Female                                      Yes  "
      ]
     },
     "execution_count": 86,
     "metadata": {},
     "output_type": "execute_result"
    }
   ],
   "source": [
    "data.head(2)"
   ]
  },
  {
   "cell_type": "code",
   "execution_count": 87,
   "metadata": {},
   "outputs": [],
   "source": [
    "import pandas as pd\n",
    "import numpy as np\n",
    "from sklearn.feature_selection import RFE\n",
    "from sklearn.linear_model import LinearRegression"
   ]
  },
  {
   "cell_type": "code",
   "execution_count": 88,
   "metadata": {},
   "outputs": [],
   "source": [
    "X=pd.get_dummies(data.drop(['Account Number','Annual Charges ($)'],axis=1),drop_first=True)\n",
    "y=data['Annual Charges ($)']"
   ]
  },
  {
   "cell_type": "code",
   "execution_count": 89,
   "metadata": {},
   "outputs": [],
   "source": [
    "X=X.rename(columns={'Gender_Male':'Gender'})"
   ]
  },
  {
   "cell_type": "code",
   "execution_count": 90,
   "metadata": {},
   "outputs": [
    {
     "data": {
      "text/plain": [
       "0    10230.19\n",
       "1    18697.50\n",
       "2    18149.15\n",
       "3     8040.15\n",
       "4     9695.48\n",
       "5    10792.02\n",
       "6    16249.39\n",
       "7     2325.69\n",
       "8    16141.57\n",
       "9     5560.52\n",
       "Name: Annual Charges ($), dtype: float64"
      ]
     },
     "execution_count": 90,
     "metadata": {},
     "output_type": "execute_result"
    }
   ],
   "source": [
    "y.head(10)"
   ]
  },
  {
   "cell_type": "code",
   "execution_count": 91,
   "metadata": {},
   "outputs": [],
   "source": [
    "linear_model=LinearRegression()\n",
    "rfe=RFE(estimator=linear_model,n_features_to_select=1)"
   ]
  },
  {
   "cell_type": "code",
   "execution_count": 92,
   "metadata": {},
   "outputs": [
    {
     "data": {
      "text/plain": [
       "RFE(estimator=LinearRegression(), n_features_to_select=1)"
      ]
     },
     "execution_count": 92,
     "metadata": {},
     "output_type": "execute_result"
    }
   ],
   "source": [
    "rfe.fit(X,y)"
   ]
  },
  {
   "cell_type": "code",
   "execution_count": 93,
   "metadata": {},
   "outputs": [
    {
     "name": "stdout",
     "output_type": "stream",
     "text": [
      "Selected Features: Index(['Gender'], dtype='object')\n",
      "Feature Ranking: [5 3 4 6 7 1 2]\n"
     ]
    }
   ],
   "source": [
    "selected_features = X.columns[rfe.support_]\n",
    "feature_ranking = rfe.ranking_\n",
    "\n",
    "print(\"Selected Features:\", selected_features)\n",
    "print(\"Feature Ranking:\", feature_ranking)\n",
    "\n"
   ]
  },
  {
   "cell_type": "code",
   "execution_count": 94,
   "metadata": {},
   "outputs": [],
   "source": [
    "\n",
    "# the selected features and their rankings to identify which variables should be included in\n",
    "# the final model based on the stepwise selection process."
   ]
  },
  {
   "cell_type": "code",
   "execution_count": 134,
   "metadata": {},
   "outputs": [],
   "source": [
    "# In the context of the problem, the estimated coefficient for\n",
    "# the first independent variable represents the expected change in the annual charges for \n",
    "# each unit increase in that variable, while holding all other variables constant.\n",
    "\n",
    "# For example, let's assume the first independent variable is \"Annual Income ($1000)\".\n",
    "# If the estimated coefficient for this variable is 0.5, it means that for every $1,000 \n",
    "# increase in annual income, we expect the annual charges to increase by $500 (0.5 * $1,000),\n",
    "# assuming all other factors remain constant.\n",
    "\n",
    "# The estimated coefficient indicates the direction and magnitude of the relationship between\n",
    "# the independent variable and the dependent variable.\n",
    "# In this case, a positive coefficient suggests that higher annual income is associated with higher annual charges.\n",
    "# The magnitude of the coefficient (0.5) indicates the strength of the relationship,\n",
    "# implying that the impact of annual income on annual charges is moderate."
   ]
  },
  {
   "cell_type": "code",
   "execution_count": null,
   "metadata": {},
   "outputs": [],
   "source": []
  },
  {
   "cell_type": "code",
   "execution_count": null,
   "metadata": {},
   "outputs": [],
   "source": []
  },
  {
   "cell_type": "markdown",
   "metadata": {},
   "source": [
    "#### Create a baseline model that simply uses the overall average as the prediction for every customer.\n",
    "#### a. Calculate the RMSE (Root Mean Squared Error) and explain it"
   ]
  },
  {
   "cell_type": "code",
   "execution_count": 135,
   "metadata": {},
   "outputs": [
    {
     "data": {
      "text/html": [
       "<div>\n",
       "<style scoped>\n",
       "    .dataframe tbody tr th:only-of-type {\n",
       "        vertical-align: middle;\n",
       "    }\n",
       "\n",
       "    .dataframe tbody tr th {\n",
       "        vertical-align: top;\n",
       "    }\n",
       "\n",
       "    .dataframe thead th {\n",
       "        text-align: right;\n",
       "    }\n",
       "</style>\n",
       "<table border=\"1\" class=\"dataframe\">\n",
       "  <thead>\n",
       "    <tr style=\"text-align: right;\">\n",
       "      <th></th>\n",
       "      <th>Account Number</th>\n",
       "      <th>Annual Charges ($)</th>\n",
       "      <th>Annual Income ($1000)</th>\n",
       "      <th>Household Size</th>\n",
       "      <th>Years of Post-High School Education</th>\n",
       "      <th>Hours Per Week Watching Television</th>\n",
       "      <th>Age</th>\n",
       "      <th>Gender</th>\n",
       "      <th>Exceeded Credit Limit in Past 12 Months?</th>\n",
       "      <th>baseline prediction</th>\n",
       "    </tr>\n",
       "  </thead>\n",
       "  <tbody>\n",
       "    <tr>\n",
       "      <th>0</th>\n",
       "      <td>1260688</td>\n",
       "      <td>10230.19</td>\n",
       "      <td>42.4</td>\n",
       "      <td>3</td>\n",
       "      <td>3</td>\n",
       "      <td>15</td>\n",
       "      <td>24</td>\n",
       "      <td>1</td>\n",
       "      <td>0</td>\n",
       "      <td>10629.574631</td>\n",
       "    </tr>\n",
       "    <tr>\n",
       "      <th>1</th>\n",
       "      <td>3159700</td>\n",
       "      <td>18697.50</td>\n",
       "      <td>103.0</td>\n",
       "      <td>5</td>\n",
       "      <td>2</td>\n",
       "      <td>39</td>\n",
       "      <td>39</td>\n",
       "      <td>0</td>\n",
       "      <td>1</td>\n",
       "      <td>10629.574631</td>\n",
       "    </tr>\n",
       "    <tr>\n",
       "      <th>2</th>\n",
       "      <td>3977101</td>\n",
       "      <td>18149.15</td>\n",
       "      <td>84.4</td>\n",
       "      <td>7</td>\n",
       "      <td>2</td>\n",
       "      <td>37</td>\n",
       "      <td>25</td>\n",
       "      <td>1</td>\n",
       "      <td>0</td>\n",
       "      <td>10629.574631</td>\n",
       "    </tr>\n",
       "    <tr>\n",
       "      <th>3</th>\n",
       "      <td>16620929</td>\n",
       "      <td>8040.15</td>\n",
       "      <td>37.0</td>\n",
       "      <td>3</td>\n",
       "      <td>4</td>\n",
       "      <td>58</td>\n",
       "      <td>37</td>\n",
       "      <td>0</td>\n",
       "      <td>0</td>\n",
       "      <td>10629.574631</td>\n",
       "    </tr>\n",
       "    <tr>\n",
       "      <th>4</th>\n",
       "      <td>6504217</td>\n",
       "      <td>9695.48</td>\n",
       "      <td>109.7</td>\n",
       "      <td>5</td>\n",
       "      <td>3</td>\n",
       "      <td>0</td>\n",
       "      <td>39</td>\n",
       "      <td>0</td>\n",
       "      <td>0</td>\n",
       "      <td>10629.574631</td>\n",
       "    </tr>\n",
       "  </tbody>\n",
       "</table>\n",
       "</div>"
      ],
      "text/plain": [
       "   Account Number  Annual Charges ($)  Annual Income ($1000)  Household Size  \\\n",
       "0         1260688            10230.19                   42.4               3   \n",
       "1         3159700            18697.50                  103.0               5   \n",
       "2         3977101            18149.15                   84.4               7   \n",
       "3        16620929             8040.15                   37.0               3   \n",
       "4         6504217             9695.48                  109.7               5   \n",
       "\n",
       "   Years of Post-High School Education  Hours Per Week Watching Television  \\\n",
       "0                                    3                                  15   \n",
       "1                                    2                                  39   \n",
       "2                                    2                                  37   \n",
       "3                                    4                                  58   \n",
       "4                                    3                                   0   \n",
       "\n",
       "   Age  Gender  Exceeded Credit Limit in Past 12 Months?  baseline prediction  \n",
       "0   24       1                                         0         10629.574631  \n",
       "1   39       0                                         1         10629.574631  \n",
       "2   25       1                                         0         10629.574631  \n",
       "3   37       0                                         0         10629.574631  \n",
       "4   39       0                                         0         10629.574631  "
      ]
     },
     "execution_count": 135,
     "metadata": {},
     "output_type": "execute_result"
    }
   ],
   "source": [
    "data.head()"
   ]
  },
  {
   "cell_type": "code",
   "execution_count": 97,
   "metadata": {},
   "outputs": [],
   "source": [
    "def convert(gender):\n",
    "    if gender=='Male':\n",
    "        return 1\n",
    "    else:\n",
    "        return 0\n",
    "    \n",
    "def months(value):\n",
    "    if value=='Yes':\n",
    "        return 1\n",
    "    else:\n",
    "        return 0"
   ]
  },
  {
   "cell_type": "code",
   "execution_count": 98,
   "metadata": {},
   "outputs": [],
   "source": [
    "data['Gender']=data['Gender'].apply(convert)\n",
    "data['Exceeded Credit Limit in Past 12 Months?']=data['Exceeded Credit Limit in Past 12 Months?'].apply(months)"
   ]
  },
  {
   "cell_type": "code",
   "execution_count": 99,
   "metadata": {},
   "outputs": [
    {
     "data": {
      "text/html": [
       "<div>\n",
       "<style scoped>\n",
       "    .dataframe tbody tr th:only-of-type {\n",
       "        vertical-align: middle;\n",
       "    }\n",
       "\n",
       "    .dataframe tbody tr th {\n",
       "        vertical-align: top;\n",
       "    }\n",
       "\n",
       "    .dataframe thead th {\n",
       "        text-align: right;\n",
       "    }\n",
       "</style>\n",
       "<table border=\"1\" class=\"dataframe\">\n",
       "  <thead>\n",
       "    <tr style=\"text-align: right;\">\n",
       "      <th></th>\n",
       "      <th>Account Number</th>\n",
       "      <th>Annual Charges ($)</th>\n",
       "      <th>Annual Income ($1000)</th>\n",
       "      <th>Household Size</th>\n",
       "      <th>Years of Post-High School Education</th>\n",
       "      <th>Hours Per Week Watching Television</th>\n",
       "      <th>Age</th>\n",
       "      <th>Gender</th>\n",
       "      <th>Exceeded Credit Limit in Past 12 Months?</th>\n",
       "    </tr>\n",
       "  </thead>\n",
       "  <tbody>\n",
       "    <tr>\n",
       "      <th>0</th>\n",
       "      <td>1260688</td>\n",
       "      <td>10230.19</td>\n",
       "      <td>42.4</td>\n",
       "      <td>3</td>\n",
       "      <td>3</td>\n",
       "      <td>15</td>\n",
       "      <td>24</td>\n",
       "      <td>1</td>\n",
       "      <td>0</td>\n",
       "    </tr>\n",
       "    <tr>\n",
       "      <th>1</th>\n",
       "      <td>3159700</td>\n",
       "      <td>18697.50</td>\n",
       "      <td>103.0</td>\n",
       "      <td>5</td>\n",
       "      <td>2</td>\n",
       "      <td>39</td>\n",
       "      <td>39</td>\n",
       "      <td>0</td>\n",
       "      <td>1</td>\n",
       "    </tr>\n",
       "    <tr>\n",
       "      <th>2</th>\n",
       "      <td>3977101</td>\n",
       "      <td>18149.15</td>\n",
       "      <td>84.4</td>\n",
       "      <td>7</td>\n",
       "      <td>2</td>\n",
       "      <td>37</td>\n",
       "      <td>25</td>\n",
       "      <td>1</td>\n",
       "      <td>0</td>\n",
       "    </tr>\n",
       "  </tbody>\n",
       "</table>\n",
       "</div>"
      ],
      "text/plain": [
       "   Account Number  Annual Charges ($)  Annual Income ($1000)  Household Size  \\\n",
       "0         1260688            10230.19                   42.4               3   \n",
       "1         3159700            18697.50                  103.0               5   \n",
       "2         3977101            18149.15                   84.4               7   \n",
       "\n",
       "   Years of Post-High School Education  Hours Per Week Watching Television  \\\n",
       "0                                    3                                  15   \n",
       "1                                    2                                  39   \n",
       "2                                    2                                  37   \n",
       "\n",
       "   Age  Gender  Exceeded Credit Limit in Past 12 Months?  \n",
       "0   24       1                                         0  \n",
       "1   39       0                                         1  \n",
       "2   25       1                                         0  "
      ]
     },
     "execution_count": 99,
     "metadata": {},
     "output_type": "execute_result"
    }
   ],
   "source": [
    "data.head(3)"
   ]
  },
  {
   "cell_type": "code",
   "execution_count": 100,
   "metadata": {},
   "outputs": [],
   "source": [
    "X=data.drop(['Account Number','Annual Charges ($)'],axis=1)"
   ]
  },
  {
   "cell_type": "code",
   "execution_count": 101,
   "metadata": {},
   "outputs": [],
   "source": [
    "y=data['Annual Charges ($)']"
   ]
  },
  {
   "cell_type": "code",
   "execution_count": 104,
   "metadata": {},
   "outputs": [],
   "source": [
    "from sklearn.linear_model import LinearRegression\n",
    "model_reg=LinearRegression()\n",
    "from sklearn.model_selection import train_test_split\n",
    "X_train, X_test, y_train, y_test = train_test_split( X, y, test_size=0.33, random_state=101)"
   ]
  },
  {
   "cell_type": "code",
   "execution_count": 106,
   "metadata": {},
   "outputs": [],
   "source": [
    "overall_average=np.mean(data['Annual Charges ($)'])"
   ]
  },
  {
   "cell_type": "code",
   "execution_count": 107,
   "metadata": {},
   "outputs": [
    {
     "name": "stdout",
     "output_type": "stream",
     "text": [
      "Overall _average 10629.574631043259\n"
     ]
    }
   ],
   "source": [
    "print('Overall _average',overall_average)"
   ]
  },
  {
   "cell_type": "code",
   "execution_count": 113,
   "metadata": {},
   "outputs": [
    {
     "data": {
      "text/html": [
       "<div>\n",
       "<style scoped>\n",
       "    .dataframe tbody tr th:only-of-type {\n",
       "        vertical-align: middle;\n",
       "    }\n",
       "\n",
       "    .dataframe tbody tr th {\n",
       "        vertical-align: top;\n",
       "    }\n",
       "\n",
       "    .dataframe thead th {\n",
       "        text-align: right;\n",
       "    }\n",
       "</style>\n",
       "<table border=\"1\" class=\"dataframe\">\n",
       "  <thead>\n",
       "    <tr style=\"text-align: right;\">\n",
       "      <th></th>\n",
       "      <th>Annual Income ($1000)</th>\n",
       "      <th>Household Size</th>\n",
       "      <th>Years of Post-High School Education</th>\n",
       "      <th>Hours Per Week Watching Television</th>\n",
       "      <th>Age</th>\n",
       "      <th>Gender</th>\n",
       "      <th>Exceeded Credit Limit in Past 12 Months?</th>\n",
       "    </tr>\n",
       "  </thead>\n",
       "  <tbody>\n",
       "    <tr>\n",
       "      <th>0</th>\n",
       "      <td>42.4</td>\n",
       "      <td>3</td>\n",
       "      <td>3</td>\n",
       "      <td>15</td>\n",
       "      <td>24</td>\n",
       "      <td>1</td>\n",
       "      <td>0</td>\n",
       "    </tr>\n",
       "    <tr>\n",
       "      <th>1</th>\n",
       "      <td>103.0</td>\n",
       "      <td>5</td>\n",
       "      <td>2</td>\n",
       "      <td>39</td>\n",
       "      <td>39</td>\n",
       "      <td>0</td>\n",
       "      <td>1</td>\n",
       "    </tr>\n",
       "    <tr>\n",
       "      <th>2</th>\n",
       "      <td>84.4</td>\n",
       "      <td>7</td>\n",
       "      <td>2</td>\n",
       "      <td>37</td>\n",
       "      <td>25</td>\n",
       "      <td>1</td>\n",
       "      <td>0</td>\n",
       "    </tr>\n",
       "    <tr>\n",
       "      <th>3</th>\n",
       "      <td>37.0</td>\n",
       "      <td>3</td>\n",
       "      <td>4</td>\n",
       "      <td>58</td>\n",
       "      <td>37</td>\n",
       "      <td>0</td>\n",
       "      <td>0</td>\n",
       "    </tr>\n",
       "    <tr>\n",
       "      <th>4</th>\n",
       "      <td>109.7</td>\n",
       "      <td>5</td>\n",
       "      <td>3</td>\n",
       "      <td>0</td>\n",
       "      <td>39</td>\n",
       "      <td>0</td>\n",
       "      <td>0</td>\n",
       "    </tr>\n",
       "    <tr>\n",
       "      <th>...</th>\n",
       "      <td>...</td>\n",
       "      <td>...</td>\n",
       "      <td>...</td>\n",
       "      <td>...</td>\n",
       "      <td>...</td>\n",
       "      <td>...</td>\n",
       "      <td>...</td>\n",
       "    </tr>\n",
       "    <tr>\n",
       "      <th>388</th>\n",
       "      <td>70.3</td>\n",
       "      <td>5</td>\n",
       "      <td>4</td>\n",
       "      <td>57</td>\n",
       "      <td>31</td>\n",
       "      <td>0</td>\n",
       "      <td>0</td>\n",
       "    </tr>\n",
       "    <tr>\n",
       "      <th>389</th>\n",
       "      <td>15.4</td>\n",
       "      <td>7</td>\n",
       "      <td>1</td>\n",
       "      <td>36</td>\n",
       "      <td>44</td>\n",
       "      <td>1</td>\n",
       "      <td>0</td>\n",
       "    </tr>\n",
       "    <tr>\n",
       "      <th>390</th>\n",
       "      <td>31.4</td>\n",
       "      <td>7</td>\n",
       "      <td>3</td>\n",
       "      <td>10</td>\n",
       "      <td>28</td>\n",
       "      <td>0</td>\n",
       "      <td>0</td>\n",
       "    </tr>\n",
       "    <tr>\n",
       "      <th>391</th>\n",
       "      <td>73.8</td>\n",
       "      <td>5</td>\n",
       "      <td>0</td>\n",
       "      <td>56</td>\n",
       "      <td>55</td>\n",
       "      <td>1</td>\n",
       "      <td>0</td>\n",
       "    </tr>\n",
       "    <tr>\n",
       "      <th>392</th>\n",
       "      <td>71.4</td>\n",
       "      <td>6</td>\n",
       "      <td>4</td>\n",
       "      <td>25</td>\n",
       "      <td>30</td>\n",
       "      <td>1</td>\n",
       "      <td>0</td>\n",
       "    </tr>\n",
       "  </tbody>\n",
       "</table>\n",
       "<p>393 rows × 7 columns</p>\n",
       "</div>"
      ],
      "text/plain": [
       "     Annual Income ($1000)  Household Size  \\\n",
       "0                     42.4               3   \n",
       "1                    103.0               5   \n",
       "2                     84.4               7   \n",
       "3                     37.0               3   \n",
       "4                    109.7               5   \n",
       "..                     ...             ...   \n",
       "388                   70.3               5   \n",
       "389                   15.4               7   \n",
       "390                   31.4               7   \n",
       "391                   73.8               5   \n",
       "392                   71.4               6   \n",
       "\n",
       "     Years of Post-High School Education  Hours Per Week Watching Television  \\\n",
       "0                                      3                                  15   \n",
       "1                                      2                                  39   \n",
       "2                                      2                                  37   \n",
       "3                                      4                                  58   \n",
       "4                                      3                                   0   \n",
       "..                                   ...                                 ...   \n",
       "388                                    4                                  57   \n",
       "389                                    1                                  36   \n",
       "390                                    3                                  10   \n",
       "391                                    0                                  56   \n",
       "392                                    4                                  25   \n",
       "\n",
       "     Age  Gender  Exceeded Credit Limit in Past 12 Months?  \n",
       "0     24       1                                         0  \n",
       "1     39       0                                         1  \n",
       "2     25       1                                         0  \n",
       "3     37       0                                         0  \n",
       "4     39       0                                         0  \n",
       "..   ...     ...                                       ...  \n",
       "388   31       0                                         0  \n",
       "389   44       1                                         0  \n",
       "390   28       0                                         0  \n",
       "391   55       1                                         0  \n",
       "392   30       1                                         0  \n",
       "\n",
       "[393 rows x 7 columns]"
      ]
     },
     "execution_count": 113,
     "metadata": {},
     "output_type": "execute_result"
    }
   ],
   "source": [
    "X"
   ]
  },
  {
   "cell_type": "code",
   "execution_count": 114,
   "metadata": {},
   "outputs": [
    {
     "data": {
      "text/plain": [
       "LinearRegression()"
      ]
     },
     "execution_count": 114,
     "metadata": {},
     "output_type": "execute_result"
    }
   ],
   "source": [
    "model_reg.fit(X,y)"
   ]
  },
  {
   "cell_type": "code",
   "execution_count": 117,
   "metadata": {},
   "outputs": [],
   "source": [
    "y_pred=model_reg.predict(X)"
   ]
  },
  {
   "cell_type": "code",
   "execution_count": 119,
   "metadata": {},
   "outputs": [
    {
     "data": {
      "text/plain": [
       "<matplotlib.collections.PathCollection at 0x1bc151edcd0>"
      ]
     },
     "execution_count": 119,
     "metadata": {},
     "output_type": "execute_result"
    },
    {
     "data": {
      "image/png": "[encoded data removed]",
      "text/plain": [
       "<Figure size 432x288 with 1 Axes>"
      ]
     },
     "metadata": {
      "needs_background": "light"
     },
     "output_type": "display_data"
    }
   ],
   "source": [
    "py.scatter(y,y_pred)"
   ]
  },
  {
   "cell_type": "code",
   "execution_count": 120,
   "metadata": {},
   "outputs": [],
   "source": [
    "rsme_model=mean_squared_error(y,y_pred,squared=False)"
   ]
  },
  {
   "cell_type": "code",
   "execution_count": 121,
   "metadata": {},
   "outputs": [
    {
     "data": {
      "text/plain": [
       "4855.2944125963495"
      ]
     },
     "execution_count": 121,
     "metadata": {},
     "output_type": "execute_result"
    }
   ],
   "source": [
    "rsme_model"
   ]
  },
  {
   "cell_type": "code",
   "execution_count": 122,
   "metadata": {},
   "outputs": [],
   "source": [
    "data['baseline prediction']=overall_average"
   ]
  },
  {
   "cell_type": "code",
   "execution_count": 123,
   "metadata": {},
   "outputs": [
    {
     "data": {
      "text/html": [
       "<div>\n",
       "<style scoped>\n",
       "    .dataframe tbody tr th:only-of-type {\n",
       "        vertical-align: middle;\n",
       "    }\n",
       "\n",
       "    .dataframe tbody tr th {\n",
       "        vertical-align: top;\n",
       "    }\n",
       "\n",
       "    .dataframe thead th {\n",
       "        text-align: right;\n",
       "    }\n",
       "</style>\n",
       "<table border=\"1\" class=\"dataframe\">\n",
       "  <thead>\n",
       "    <tr style=\"text-align: right;\">\n",
       "      <th></th>\n",
       "      <th>Account Number</th>\n",
       "      <th>Annual Charges ($)</th>\n",
       "      <th>Annual Income ($1000)</th>\n",
       "      <th>Household Size</th>\n",
       "      <th>Years of Post-High School Education</th>\n",
       "      <th>Hours Per Week Watching Television</th>\n",
       "      <th>Age</th>\n",
       "      <th>Gender</th>\n",
       "      <th>Exceeded Credit Limit in Past 12 Months?</th>\n",
       "      <th>baseline prediction</th>\n",
       "    </tr>\n",
       "  </thead>\n",
       "  <tbody>\n",
       "    <tr>\n",
       "      <th>0</th>\n",
       "      <td>1260688</td>\n",
       "      <td>10230.19</td>\n",
       "      <td>42.4</td>\n",
       "      <td>3</td>\n",
       "      <td>3</td>\n",
       "      <td>15</td>\n",
       "      <td>24</td>\n",
       "      <td>1</td>\n",
       "      <td>0</td>\n",
       "      <td>10629.574631</td>\n",
       "    </tr>\n",
       "    <tr>\n",
       "      <th>1</th>\n",
       "      <td>3159700</td>\n",
       "      <td>18697.50</td>\n",
       "      <td>103.0</td>\n",
       "      <td>5</td>\n",
       "      <td>2</td>\n",
       "      <td>39</td>\n",
       "      <td>39</td>\n",
       "      <td>0</td>\n",
       "      <td>1</td>\n",
       "      <td>10629.574631</td>\n",
       "    </tr>\n",
       "    <tr>\n",
       "      <th>2</th>\n",
       "      <td>3977101</td>\n",
       "      <td>18149.15</td>\n",
       "      <td>84.4</td>\n",
       "      <td>7</td>\n",
       "      <td>2</td>\n",
       "      <td>37</td>\n",
       "      <td>25</td>\n",
       "      <td>1</td>\n",
       "      <td>0</td>\n",
       "      <td>10629.574631</td>\n",
       "    </tr>\n",
       "    <tr>\n",
       "      <th>3</th>\n",
       "      <td>16620929</td>\n",
       "      <td>8040.15</td>\n",
       "      <td>37.0</td>\n",
       "      <td>3</td>\n",
       "      <td>4</td>\n",
       "      <td>58</td>\n",
       "      <td>37</td>\n",
       "      <td>0</td>\n",
       "      <td>0</td>\n",
       "      <td>10629.574631</td>\n",
       "    </tr>\n",
       "    <tr>\n",
       "      <th>4</th>\n",
       "      <td>6504217</td>\n",
       "      <td>9695.48</td>\n",
       "      <td>109.7</td>\n",
       "      <td>5</td>\n",
       "      <td>3</td>\n",
       "      <td>0</td>\n",
       "      <td>39</td>\n",
       "      <td>0</td>\n",
       "      <td>0</td>\n",
       "      <td>10629.574631</td>\n",
       "    </tr>\n",
       "  </tbody>\n",
       "</table>\n",
       "</div>"
      ],
      "text/plain": [
       "   Account Number  Annual Charges ($)  Annual Income ($1000)  Household Size  \\\n",
       "0         1260688            10230.19                   42.4               3   \n",
       "1         3159700            18697.50                  103.0               5   \n",
       "2         3977101            18149.15                   84.4               7   \n",
       "3        16620929             8040.15                   37.0               3   \n",
       "4         6504217             9695.48                  109.7               5   \n",
       "\n",
       "   Years of Post-High School Education  Hours Per Week Watching Television  \\\n",
       "0                                    3                                  15   \n",
       "1                                    2                                  39   \n",
       "2                                    2                                  37   \n",
       "3                                    4                                  58   \n",
       "4                                    3                                   0   \n",
       "\n",
       "   Age  Gender  Exceeded Credit Limit in Past 12 Months?  baseline prediction  \n",
       "0   24       1                                         0         10629.574631  \n",
       "1   39       0                                         1         10629.574631  \n",
       "2   25       1                                         0         10629.574631  \n",
       "3   37       0                                         0         10629.574631  \n",
       "4   39       0                                         0         10629.574631  "
      ]
     },
     "execution_count": 123,
     "metadata": {},
     "output_type": "execute_result"
    }
   ],
   "source": [
    "data.head()"
   ]
  },
  {
   "cell_type": "code",
   "execution_count": 126,
   "metadata": {},
   "outputs": [],
   "source": [
    "baseline_predictions = [overall_average] * len(data)"
   ]
  },
  {
   "cell_type": "code",
   "execution_count": 129,
   "metadata": {},
   "outputs": [
    {
     "data": {
      "text/plain": [
       "[10629.574631043259,\n",
       " 10629.574631043259,\n",
       " 10629.574631043259,\n",
       " 10629.574631043259,\n",
       " 10629.574631043259,\n",
       " 10629.574631043259,\n",
       " 10629.574631043259,\n",
       " 10629.574631043259,\n",
       " 10629.574631043259,\n",
       " 10629.574631043259,\n",
       " 10629.574631043259,\n",
       " 10629.574631043259,\n",
       " 10629.574631043259,\n",
       " 10629.574631043259,\n",
       " 10629.574631043259,\n",
       " 10629.574631043259,\n",
       " 10629.574631043259,\n",
       " 10629.574631043259,\n",
       " 10629.574631043259,\n",
       " 10629.574631043259,\n",
       " 10629.574631043259,\n",
       " 10629.574631043259,\n",
       " 10629.574631043259,\n",
       " 10629.574631043259,\n",
       " 10629.574631043259,\n",
       " 10629.574631043259,\n",
       " 10629.574631043259,\n",
       " 10629.574631043259,\n",
       " 10629.574631043259,\n",
       " 10629.574631043259,\n",
       " 10629.574631043259,\n",
       " 10629.574631043259,\n",
       " 10629.574631043259,\n",
       " 10629.574631043259,\n",
       " 10629.574631043259,\n",
       " 10629.574631043259,\n",
       " 10629.574631043259,\n",
       " 10629.574631043259,\n",
       " 10629.574631043259,\n",
       " 10629.574631043259,\n",
       " 10629.574631043259,\n",
       " 10629.574631043259,\n",
       " 10629.574631043259,\n",
       " 10629.574631043259,\n",
       " 10629.574631043259,\n",
       " 10629.574631043259,\n",
       " 10629.574631043259,\n",
       " 10629.574631043259,\n",
       " 10629.574631043259,\n",
       " 10629.574631043259,\n",
       " 10629.574631043259,\n",
       " 10629.574631043259,\n",
       " 10629.574631043259,\n",
       " 10629.574631043259,\n",
       " 10629.574631043259,\n",
       " 10629.574631043259,\n",
       " 10629.574631043259,\n",
       " 10629.574631043259,\n",
       " 10629.574631043259,\n",
       " 10629.574631043259,\n",
       " 10629.574631043259,\n",
       " 10629.574631043259,\n",
       " 10629.574631043259,\n",
       " 10629.574631043259,\n",
       " 10629.574631043259,\n",
       " 10629.574631043259,\n",
       " 10629.574631043259,\n",
       " 10629.574631043259,\n",
       " 10629.574631043259,\n",
       " 10629.574631043259,\n",
       " 10629.574631043259,\n",
       " 10629.574631043259,\n",
       " 10629.574631043259,\n",
       " 10629.574631043259,\n",
       " 10629.574631043259,\n",
       " 10629.574631043259,\n",
       " 10629.574631043259,\n",
       " 10629.574631043259,\n",
       " 10629.574631043259,\n",
       " 10629.574631043259,\n",
       " 10629.574631043259,\n",
       " 10629.574631043259,\n",
       " 10629.574631043259,\n",
       " 10629.574631043259,\n",
       " 10629.574631043259,\n",
       " 10629.574631043259,\n",
       " 10629.574631043259,\n",
       " 10629.574631043259,\n",
       " 10629.574631043259,\n",
       " 10629.574631043259,\n",
       " 10629.574631043259,\n",
       " 10629.574631043259,\n",
       " 10629.574631043259,\n",
       " 10629.574631043259,\n",
       " 10629.574631043259,\n",
       " 10629.574631043259,\n",
       " 10629.574631043259,\n",
       " 10629.574631043259,\n",
       " 10629.574631043259,\n",
       " 10629.574631043259,\n",
       " 10629.574631043259,\n",
       " 10629.574631043259,\n",
       " 10629.574631043259,\n",
       " 10629.574631043259,\n",
       " 10629.574631043259,\n",
       " 10629.574631043259,\n",
       " 10629.574631043259,\n",
       " 10629.574631043259,\n",
       " 10629.574631043259,\n",
       " 10629.574631043259,\n",
       " 10629.574631043259,\n",
       " 10629.574631043259,\n",
       " 10629.574631043259,\n",
       " 10629.574631043259,\n",
       " 10629.574631043259,\n",
       " 10629.574631043259,\n",
       " 10629.574631043259,\n",
       " 10629.574631043259,\n",
       " 10629.574631043259,\n",
       " 10629.574631043259,\n",
       " 10629.574631043259,\n",
       " 10629.574631043259,\n",
       " 10629.574631043259,\n",
       " 10629.574631043259,\n",
       " 10629.574631043259,\n",
       " 10629.574631043259,\n",
       " 10629.574631043259,\n",
       " 10629.574631043259,\n",
       " 10629.574631043259,\n",
       " 10629.574631043259,\n",
       " 10629.574631043259,\n",
       " 10629.574631043259,\n",
       " 10629.574631043259,\n",
       " 10629.574631043259,\n",
       " 10629.574631043259,\n",
       " 10629.574631043259,\n",
       " 10629.574631043259,\n",
       " 10629.574631043259,\n",
       " 10629.574631043259,\n",
       " 10629.574631043259,\n",
       " 10629.574631043259,\n",
       " 10629.574631043259,\n",
       " 10629.574631043259,\n",
       " 10629.574631043259,\n",
       " 10629.574631043259,\n",
       " 10629.574631043259,\n",
       " 10629.574631043259,\n",
       " 10629.574631043259,\n",
       " 10629.574631043259,\n",
       " 10629.574631043259,\n",
       " 10629.574631043259,\n",
       " 10629.574631043259,\n",
       " 10629.574631043259,\n",
       " 10629.574631043259,\n",
       " 10629.574631043259,\n",
       " 10629.574631043259,\n",
       " 10629.574631043259,\n",
       " 10629.574631043259,\n",
       " 10629.574631043259,\n",
       " 10629.574631043259,\n",
       " 10629.574631043259,\n",
       " 10629.574631043259,\n",
       " 10629.574631043259,\n",
       " 10629.574631043259,\n",
       " 10629.574631043259,\n",
       " 10629.574631043259,\n",
       " 10629.574631043259,\n",
       " 10629.574631043259,\n",
       " 10629.574631043259,\n",
       " 10629.574631043259,\n",
       " 10629.574631043259,\n",
       " 10629.574631043259,\n",
       " 10629.574631043259,\n",
       " 10629.574631043259,\n",
       " 10629.574631043259,\n",
       " 10629.574631043259,\n",
       " 10629.574631043259,\n",
       " 10629.574631043259,\n",
       " 10629.574631043259,\n",
       " 10629.574631043259,\n",
       " 10629.574631043259,\n",
       " 10629.574631043259,\n",
       " 10629.574631043259,\n",
       " 10629.574631043259,\n",
       " 10629.574631043259,\n",
       " 10629.574631043259,\n",
       " 10629.574631043259,\n",
       " 10629.574631043259,\n",
       " 10629.574631043259,\n",
       " 10629.574631043259,\n",
       " 10629.574631043259,\n",
       " 10629.574631043259,\n",
       " 10629.574631043259,\n",
       " 10629.574631043259,\n",
       " 10629.574631043259,\n",
       " 10629.574631043259,\n",
       " 10629.574631043259,\n",
       " 10629.574631043259,\n",
       " 10629.574631043259,\n",
       " 10629.574631043259,\n",
       " 10629.574631043259,\n",
       " 10629.574631043259,\n",
       " 10629.574631043259,\n",
       " 10629.574631043259,\n",
       " 10629.574631043259,\n",
       " 10629.574631043259,\n",
       " 10629.574631043259,\n",
       " 10629.574631043259,\n",
       " 10629.574631043259,\n",
       " 10629.574631043259,\n",
       " 10629.574631043259,\n",
       " 10629.574631043259,\n",
       " 10629.574631043259,\n",
       " 10629.574631043259,\n",
       " 10629.574631043259,\n",
       " 10629.574631043259,\n",
       " 10629.574631043259,\n",
       " 10629.574631043259,\n",
       " 10629.574631043259,\n",
       " 10629.574631043259,\n",
       " 10629.574631043259,\n",
       " 10629.574631043259,\n",
       " 10629.574631043259,\n",
       " 10629.574631043259,\n",
       " 10629.574631043259,\n",
       " 10629.574631043259,\n",
       " 10629.574631043259,\n",
       " 10629.574631043259,\n",
       " 10629.574631043259,\n",
       " 10629.574631043259,\n",
       " 10629.574631043259,\n",
       " 10629.574631043259,\n",
       " 10629.574631043259,\n",
       " 10629.574631043259,\n",
       " 10629.574631043259,\n",
       " 10629.574631043259,\n",
       " 10629.574631043259,\n",
       " 10629.574631043259,\n",
       " 10629.574631043259,\n",
       " 10629.574631043259,\n",
       " 10629.574631043259,\n",
       " 10629.574631043259,\n",
       " 10629.574631043259,\n",
       " 10629.574631043259,\n",
       " 10629.574631043259,\n",
       " 10629.574631043259,\n",
       " 10629.574631043259,\n",
       " 10629.574631043259,\n",
       " 10629.574631043259,\n",
       " 10629.574631043259,\n",
       " 10629.574631043259,\n",
       " 10629.574631043259,\n",
       " 10629.574631043259,\n",
       " 10629.574631043259,\n",
       " 10629.574631043259,\n",
       " 10629.574631043259,\n",
       " 10629.574631043259,\n",
       " 10629.574631043259,\n",
       " 10629.574631043259,\n",
       " 10629.574631043259,\n",
       " 10629.574631043259,\n",
       " 10629.574631043259,\n",
       " 10629.574631043259,\n",
       " 10629.574631043259,\n",
       " 10629.574631043259,\n",
       " 10629.574631043259,\n",
       " 10629.574631043259,\n",
       " 10629.574631043259,\n",
       " 10629.574631043259,\n",
       " 10629.574631043259,\n",
       " 10629.574631043259,\n",
       " 10629.574631043259,\n",
       " 10629.574631043259,\n",
       " 10629.574631043259,\n",
       " 10629.574631043259,\n",
       " 10629.574631043259,\n",
       " 10629.574631043259,\n",
       " 10629.574631043259,\n",
       " 10629.574631043259,\n",
       " 10629.574631043259,\n",
       " 10629.574631043259,\n",
       " 10629.574631043259,\n",
       " 10629.574631043259,\n",
       " 10629.574631043259,\n",
       " 10629.574631043259,\n",
       " 10629.574631043259,\n",
       " 10629.574631043259,\n",
       " 10629.574631043259,\n",
       " 10629.574631043259,\n",
       " 10629.574631043259,\n",
       " 10629.574631043259,\n",
       " 10629.574631043259,\n",
       " 10629.574631043259,\n",
       " 10629.574631043259,\n",
       " 10629.574631043259,\n",
       " 10629.574631043259,\n",
       " 10629.574631043259,\n",
       " 10629.574631043259,\n",
       " 10629.574631043259,\n",
       " 10629.574631043259,\n",
       " 10629.574631043259,\n",
       " 10629.574631043259,\n",
       " 10629.574631043259,\n",
       " 10629.574631043259,\n",
       " 10629.574631043259,\n",
       " 10629.574631043259,\n",
       " 10629.574631043259,\n",
       " 10629.574631043259,\n",
       " 10629.574631043259,\n",
       " 10629.574631043259,\n",
       " 10629.574631043259,\n",
       " 10629.574631043259,\n",
       " 10629.574631043259,\n",
       " 10629.574631043259,\n",
       " 10629.574631043259,\n",
       " 10629.574631043259,\n",
       " 10629.574631043259,\n",
       " 10629.574631043259,\n",
       " 10629.574631043259,\n",
       " 10629.574631043259,\n",
       " 10629.574631043259,\n",
       " 10629.574631043259,\n",
       " 10629.574631043259,\n",
       " 10629.574631043259,\n",
       " 10629.574631043259,\n",
       " 10629.574631043259,\n",
       " 10629.574631043259,\n",
       " 10629.574631043259,\n",
       " 10629.574631043259,\n",
       " 10629.574631043259,\n",
       " 10629.574631043259,\n",
       " 10629.574631043259,\n",
       " 10629.574631043259,\n",
       " 10629.574631043259,\n",
       " 10629.574631043259,\n",
       " 10629.574631043259,\n",
       " 10629.574631043259,\n",
       " 10629.574631043259,\n",
       " 10629.574631043259,\n",
       " 10629.574631043259,\n",
       " 10629.574631043259,\n",
       " 10629.574631043259,\n",
       " 10629.574631043259,\n",
       " 10629.574631043259,\n",
       " 10629.574631043259,\n",
       " 10629.574631043259,\n",
       " 10629.574631043259,\n",
       " 10629.574631043259,\n",
       " 10629.574631043259,\n",
       " 10629.574631043259,\n",
       " 10629.574631043259,\n",
       " 10629.574631043259,\n",
       " 10629.574631043259,\n",
       " 10629.574631043259,\n",
       " 10629.574631043259,\n",
       " 10629.574631043259,\n",
       " 10629.574631043259,\n",
       " 10629.574631043259,\n",
       " 10629.574631043259,\n",
       " 10629.574631043259,\n",
       " 10629.574631043259,\n",
       " 10629.574631043259,\n",
       " 10629.574631043259,\n",
       " 10629.574631043259,\n",
       " 10629.574631043259,\n",
       " 10629.574631043259,\n",
       " 10629.574631043259,\n",
       " 10629.574631043259,\n",
       " 10629.574631043259,\n",
       " 10629.574631043259,\n",
       " 10629.574631043259,\n",
       " 10629.574631043259,\n",
       " 10629.574631043259,\n",
       " 10629.574631043259,\n",
       " 10629.574631043259,\n",
       " 10629.574631043259,\n",
       " 10629.574631043259,\n",
       " 10629.574631043259,\n",
       " 10629.574631043259,\n",
       " 10629.574631043259,\n",
       " 10629.574631043259,\n",
       " 10629.574631043259,\n",
       " 10629.574631043259,\n",
       " 10629.574631043259,\n",
       " 10629.574631043259,\n",
       " 10629.574631043259,\n",
       " 10629.574631043259,\n",
       " 10629.574631043259,\n",
       " 10629.574631043259,\n",
       " 10629.574631043259,\n",
       " 10629.574631043259,\n",
       " 10629.574631043259,\n",
       " 10629.574631043259]"
      ]
     },
     "execution_count": 129,
     "metadata": {},
     "output_type": "execute_result"
    }
   ],
   "source": [
    "baseline_predictions"
   ]
  },
  {
   "cell_type": "code",
   "execution_count": 130,
   "metadata": {},
   "outputs": [],
   "source": [
    "rmse_baseline = mean_squared_error(data['Annual Charges ($)'], baseline_predictions, squared=False)\n"
   ]
  },
  {
   "cell_type": "code",
   "execution_count": 131,
   "metadata": {},
   "outputs": [
    {
     "data": {
      "text/plain": [
       "6034.325007018446"
      ]
     },
     "execution_count": 131,
     "metadata": {},
     "output_type": "execute_result"
    }
   ],
   "source": [
    " rmse_baseline"
   ]
  },
  {
   "cell_type": "code",
   "execution_count": 132,
   "metadata": {},
   "outputs": [
    {
     "name": "stdout",
     "output_type": "stream",
     "text": [
      "Overall Average Annual Charges: 10629.574631043259\n",
      "RMSE (Baseline Model): 6034.325007018446\n"
     ]
    }
   ],
   "source": [
    "print(\"Overall Average Annual Charges:\", overall_average)\n",
    "print(\"RMSE (Baseline Model):\", rmse_baseline)"
   ]
  },
  {
   "cell_type": "code",
   "execution_count": 133,
   "metadata": {},
   "outputs": [],
   "source": [
    "# The RMSE measures the average difference between the true annual charges and the baseline predictions. \n",
    "# It provides a measure of how well the baseline model, which simply uses the overall average for all predictions, \n",
    "# performs in capturing the variability in the dependent variable. A lower RMSE indicates better model performance, \n",
    "# as it signifies smaller prediction errors. In this context, the RMSE of the baseline model can serve as a \n",
    "# reference point to evaluate the performance of more complex models that aim to improve upon this simple baseline."
   ]
  },
  {
   "cell_type": "code",
   "execution_count": null,
   "metadata": {},
   "outputs": [],
   "source": []
  },
  {
   "cell_type": "markdown",
   "metadata": {},
   "source": [
    "#####  10) Using your “final” multiple regression model, create a forecast for each row of your data.\n",
    "#### a. Calculate the RMSE and explain it, being sure to compare it to the baseline “average model”\n",
    "#### from above."
   ]
  },
  {
   "cell_type": "code",
   "execution_count": 139,
   "metadata": {},
   "outputs": [],
   "source": [
    "data_final=data.drop(['Account Number','Annual Charges ($)','baseline prediction'],axis=1)"
   ]
  },
  {
   "cell_type": "code",
   "execution_count": 140,
   "metadata": {},
   "outputs": [
    {
     "data": {
      "text/html": [
       "<div>\n",
       "<style scoped>\n",
       "    .dataframe tbody tr th:only-of-type {\n",
       "        vertical-align: middle;\n",
       "    }\n",
       "\n",
       "    .dataframe tbody tr th {\n",
       "        vertical-align: top;\n",
       "    }\n",
       "\n",
       "    .dataframe thead th {\n",
       "        text-align: right;\n",
       "    }\n",
       "</style>\n",
       "<table border=\"1\" class=\"dataframe\">\n",
       "  <thead>\n",
       "    <tr style=\"text-align: right;\">\n",
       "      <th></th>\n",
       "      <th>Annual Income ($1000)</th>\n",
       "      <th>Household Size</th>\n",
       "      <th>Years of Post-High School Education</th>\n",
       "      <th>Hours Per Week Watching Television</th>\n",
       "      <th>Age</th>\n",
       "      <th>Gender</th>\n",
       "      <th>Exceeded Credit Limit in Past 12 Months?</th>\n",
       "    </tr>\n",
       "  </thead>\n",
       "  <tbody>\n",
       "    <tr>\n",
       "      <th>0</th>\n",
       "      <td>42.4</td>\n",
       "      <td>3</td>\n",
       "      <td>3</td>\n",
       "      <td>15</td>\n",
       "      <td>24</td>\n",
       "      <td>1</td>\n",
       "      <td>0</td>\n",
       "    </tr>\n",
       "    <tr>\n",
       "      <th>1</th>\n",
       "      <td>103.0</td>\n",
       "      <td>5</td>\n",
       "      <td>2</td>\n",
       "      <td>39</td>\n",
       "      <td>39</td>\n",
       "      <td>0</td>\n",
       "      <td>1</td>\n",
       "    </tr>\n",
       "  </tbody>\n",
       "</table>\n",
       "</div>"
      ],
      "text/plain": [
       "   Annual Income ($1000)  Household Size  Years of Post-High School Education  \\\n",
       "0                   42.4               3                                    3   \n",
       "1                  103.0               5                                    2   \n",
       "\n",
       "   Hours Per Week Watching Television  Age  Gender  \\\n",
       "0                                  15   24       1   \n",
       "1                                  39   39       0   \n",
       "\n",
       "   Exceeded Credit Limit in Past 12 Months?  \n",
       "0                                         0  \n",
       "1                                         1  "
      ]
     },
     "execution_count": 140,
     "metadata": {},
     "output_type": "execute_result"
    }
   ],
   "source": [
    "data_final.head(2)"
   ]
  },
  {
   "cell_type": "code",
   "execution_count": 143,
   "metadata": {},
   "outputs": [],
   "source": [
    "X=data_final\n",
    "y=data['Annual Charges ($)']\n"
   ]
  },
  {
   "cell_type": "code",
   "execution_count": 144,
   "metadata": {},
   "outputs": [],
   "source": [
    "from sklearn.linear_model import LinearRegression\n",
    "model_reg=LinearRegression()\n",
    "from sklearn.model_selection import train_test_split\n",
    "X_train, X_test, y_train, y_test = train_test_split( X, y, test_size=0.33, random_state=101)"
   ]
  },
  {
   "cell_type": "code",
   "execution_count": 145,
   "metadata": {},
   "outputs": [
    {
     "data": {
      "text/plain": [
       "LinearRegression()"
      ]
     },
     "execution_count": 145,
     "metadata": {},
     "output_type": "execute_result"
    }
   ],
   "source": [
    "model_reg.fit(X_train,y_train)"
   ]
  },
  {
   "cell_type": "code",
   "execution_count": 146,
   "metadata": {},
   "outputs": [],
   "source": [
    "predict=model_reg.predict(X_test)"
   ]
  },
  {
   "cell_type": "code",
   "execution_count": 148,
   "metadata": {},
   "outputs": [
    {
     "data": {
      "text/plain": [
       "<matplotlib.collections.PathCollection at 0x1bc155e1100>"
      ]
     },
     "execution_count": 148,
     "metadata": {},
     "output_type": "execute_result"
    },
    {
     "data": {
      "image/png": "[encoded data removed]",
      "text/plain": [
       "<Figure size 432x288 with 1 Axes>"
      ]
     },
     "metadata": {
      "needs_background": "light"
     },
     "output_type": "display_data"
    }
   ],
   "source": [
    "py.scatter(y_test,predict)"
   ]
  },
  {
   "cell_type": "code",
   "execution_count": 152,
   "metadata": {},
   "outputs": [
    {
     "data": {
      "text/html": [
       "<div>\n",
       "<style scoped>\n",
       "    .dataframe tbody tr th:only-of-type {\n",
       "        vertical-align: middle;\n",
       "    }\n",
       "\n",
       "    .dataframe tbody tr th {\n",
       "        vertical-align: top;\n",
       "    }\n",
       "\n",
       "    .dataframe thead th {\n",
       "        text-align: right;\n",
       "    }\n",
       "</style>\n",
       "<table border=\"1\" class=\"dataframe\">\n",
       "  <thead>\n",
       "    <tr style=\"text-align: right;\">\n",
       "      <th></th>\n",
       "      <th>0</th>\n",
       "    </tr>\n",
       "  </thead>\n",
       "  <tbody>\n",
       "    <tr>\n",
       "      <th>0</th>\n",
       "      <td>16934.474908</td>\n",
       "    </tr>\n",
       "    <tr>\n",
       "      <th>1</th>\n",
       "      <td>9087.025871</td>\n",
       "    </tr>\n",
       "    <tr>\n",
       "      <th>2</th>\n",
       "      <td>12457.365900</td>\n",
       "    </tr>\n",
       "    <tr>\n",
       "      <th>3</th>\n",
       "      <td>11495.829898</td>\n",
       "    </tr>\n",
       "    <tr>\n",
       "      <th>4</th>\n",
       "      <td>5789.752666</td>\n",
       "    </tr>\n",
       "    <tr>\n",
       "      <th>...</th>\n",
       "      <td>...</td>\n",
       "    </tr>\n",
       "    <tr>\n",
       "      <th>125</th>\n",
       "      <td>14109.338830</td>\n",
       "    </tr>\n",
       "    <tr>\n",
       "      <th>126</th>\n",
       "      <td>12102.676072</td>\n",
       "    </tr>\n",
       "    <tr>\n",
       "      <th>127</th>\n",
       "      <td>13111.108218</td>\n",
       "    </tr>\n",
       "    <tr>\n",
       "      <th>128</th>\n",
       "      <td>7493.440316</td>\n",
       "    </tr>\n",
       "    <tr>\n",
       "      <th>129</th>\n",
       "      <td>12397.566026</td>\n",
       "    </tr>\n",
       "  </tbody>\n",
       "</table>\n",
       "<p>130 rows × 1 columns</p>\n",
       "</div>"
      ],
      "text/plain": [
       "                0\n",
       "0    16934.474908\n",
       "1     9087.025871\n",
       "2    12457.365900\n",
       "3    11495.829898\n",
       "4     5789.752666\n",
       "..            ...\n",
       "125  14109.338830\n",
       "126  12102.676072\n",
       "127  13111.108218\n",
       "128   7493.440316\n",
       "129  12397.566026\n",
       "\n",
       "[130 rows x 1 columns]"
      ]
     },
     "execution_count": 152,
     "metadata": {},
     "output_type": "execute_result"
    }
   ],
   "source": [
    "pd.DataFrame(predict)"
   ]
  },
  {
   "cell_type": "code",
   "execution_count": 153,
   "metadata": {},
   "outputs": [
    {
     "data": {
      "text/plain": [
       "LinearRegression()"
      ]
     },
     "execution_count": 153,
     "metadata": {},
     "output_type": "execute_result"
    }
   ],
   "source": [
    "model_reg.fit(X,y)"
   ]
  },
  {
   "cell_type": "code",
   "execution_count": 154,
   "metadata": {},
   "outputs": [],
   "source": [
    "pred_x=model_reg.predict(X)"
   ]
  },
  {
   "cell_type": "code",
   "execution_count": 157,
   "metadata": {},
   "outputs": [
    {
     "data": {
      "text/html": [
       "<div>\n",
       "<style scoped>\n",
       "    .dataframe tbody tr th:only-of-type {\n",
       "        vertical-align: middle;\n",
       "    }\n",
       "\n",
       "    .dataframe tbody tr th {\n",
       "        vertical-align: top;\n",
       "    }\n",
       "\n",
       "    .dataframe thead th {\n",
       "        text-align: right;\n",
       "    }\n",
       "</style>\n",
       "<table border=\"1\" class=\"dataframe\">\n",
       "  <thead>\n",
       "    <tr style=\"text-align: right;\">\n",
       "      <th></th>\n",
       "      <th>0</th>\n",
       "    </tr>\n",
       "  </thead>\n",
       "  <tbody>\n",
       "    <tr>\n",
       "      <th>0</th>\n",
       "      <td>7153.606955</td>\n",
       "    </tr>\n",
       "    <tr>\n",
       "      <th>1</th>\n",
       "      <td>16140.366476</td>\n",
       "    </tr>\n",
       "    <tr>\n",
       "      <th>2</th>\n",
       "      <td>14996.409572</td>\n",
       "    </tr>\n",
       "    <tr>\n",
       "      <th>3</th>\n",
       "      <td>5898.077225</td>\n",
       "    </tr>\n",
       "    <tr>\n",
       "      <th>4</th>\n",
       "      <td>14954.766223</td>\n",
       "    </tr>\n",
       "    <tr>\n",
       "      <th>...</th>\n",
       "      <td>...</td>\n",
       "    </tr>\n",
       "    <tr>\n",
       "      <th>388</th>\n",
       "      <td>10930.261140</td>\n",
       "    </tr>\n",
       "    <tr>\n",
       "      <th>389</th>\n",
       "      <td>7167.957515</td>\n",
       "    </tr>\n",
       "    <tr>\n",
       "      <th>390</th>\n",
       "      <td>7118.464522</td>\n",
       "    </tr>\n",
       "    <tr>\n",
       "      <th>391</th>\n",
       "      <td>13474.485102</td>\n",
       "    </tr>\n",
       "    <tr>\n",
       "      <th>392</th>\n",
       "      <td>12042.094089</td>\n",
       "    </tr>\n",
       "  </tbody>\n",
       "</table>\n",
       "<p>393 rows × 1 columns</p>\n",
       "</div>"
      ],
      "text/plain": [
       "                0\n",
       "0     7153.606955\n",
       "1    16140.366476\n",
       "2    14996.409572\n",
       "3     5898.077225\n",
       "4    14954.766223\n",
       "..            ...\n",
       "388  10930.261140\n",
       "389   7167.957515\n",
       "390   7118.464522\n",
       "391  13474.485102\n",
       "392  12042.094089\n",
       "\n",
       "[393 rows x 1 columns]"
      ]
     },
     "execution_count": 157,
     "metadata": {},
     "output_type": "execute_result"
    }
   ],
   "source": [
    "pd.DataFrame(pred_x)"
   ]
  },
  {
   "cell_type": "code",
   "execution_count": 161,
   "metadata": {},
   "outputs": [],
   "source": [
    "data_final['Forecast']=pred_x"
   ]
  },
  {
   "cell_type": "code",
   "execution_count": 164,
   "metadata": {},
   "outputs": [
    {
     "data": {
      "text/html": [
       "<div>\n",
       "<style scoped>\n",
       "    .dataframe tbody tr th:only-of-type {\n",
       "        vertical-align: middle;\n",
       "    }\n",
       "\n",
       "    .dataframe tbody tr th {\n",
       "        vertical-align: top;\n",
       "    }\n",
       "\n",
       "    .dataframe thead th {\n",
       "        text-align: right;\n",
       "    }\n",
       "</style>\n",
       "<table border=\"1\" class=\"dataframe\">\n",
       "  <thead>\n",
       "    <tr style=\"text-align: right;\">\n",
       "      <th></th>\n",
       "      <th>Annual Income ($1000)</th>\n",
       "      <th>Forecast</th>\n",
       "    </tr>\n",
       "  </thead>\n",
       "  <tbody>\n",
       "    <tr>\n",
       "      <th>0</th>\n",
       "      <td>42.4</td>\n",
       "      <td>7153.606955</td>\n",
       "    </tr>\n",
       "    <tr>\n",
       "      <th>1</th>\n",
       "      <td>103.0</td>\n",
       "      <td>16140.366476</td>\n",
       "    </tr>\n",
       "    <tr>\n",
       "      <th>2</th>\n",
       "      <td>84.4</td>\n",
       "      <td>14996.409572</td>\n",
       "    </tr>\n",
       "    <tr>\n",
       "      <th>3</th>\n",
       "      <td>37.0</td>\n",
       "      <td>5898.077225</td>\n",
       "    </tr>\n",
       "    <tr>\n",
       "      <th>4</th>\n",
       "      <td>109.7</td>\n",
       "      <td>14954.766223</td>\n",
       "    </tr>\n",
       "    <tr>\n",
       "      <th>...</th>\n",
       "      <td>...</td>\n",
       "      <td>...</td>\n",
       "    </tr>\n",
       "    <tr>\n",
       "      <th>388</th>\n",
       "      <td>70.3</td>\n",
       "      <td>10930.261140</td>\n",
       "    </tr>\n",
       "    <tr>\n",
       "      <th>389</th>\n",
       "      <td>15.4</td>\n",
       "      <td>7167.957515</td>\n",
       "    </tr>\n",
       "    <tr>\n",
       "      <th>390</th>\n",
       "      <td>31.4</td>\n",
       "      <td>7118.464522</td>\n",
       "    </tr>\n",
       "    <tr>\n",
       "      <th>391</th>\n",
       "      <td>73.8</td>\n",
       "      <td>13474.485102</td>\n",
       "    </tr>\n",
       "    <tr>\n",
       "      <th>392</th>\n",
       "      <td>71.4</td>\n",
       "      <td>12042.094089</td>\n",
       "    </tr>\n",
       "  </tbody>\n",
       "</table>\n",
       "<p>393 rows × 2 columns</p>\n",
       "</div>"
      ],
      "text/plain": [
       "     Annual Income ($1000)      Forecast\n",
       "0                     42.4   7153.606955\n",
       "1                    103.0  16140.366476\n",
       "2                     84.4  14996.409572\n",
       "3                     37.0   5898.077225\n",
       "4                    109.7  14954.766223\n",
       "..                     ...           ...\n",
       "388                   70.3  10930.261140\n",
       "389                   15.4   7167.957515\n",
       "390                   31.4   7118.464522\n",
       "391                   73.8  13474.485102\n",
       "392                   71.4  12042.094089\n",
       "\n",
       "[393 rows x 2 columns]"
      ]
     },
     "execution_count": 164,
     "metadata": {},
     "output_type": "execute_result"
    }
   ],
   "source": [
    "data_final[['Annual Income ($1000)','Forecast']]"
   ]
  },
  {
   "cell_type": "code",
   "execution_count": 165,
   "metadata": {},
   "outputs": [],
   "source": [
    "# The code outputs the original 'Annual Charges ($)' values alongside the forecasted values. \n",
    "# Each row of the 'Forecast' column represents the predicted annual charges based on the features in that row, \n",
    "# according to the final multiple regression model."
   ]
  },
  {
   "cell_type": "code",
   "execution_count": null,
   "metadata": {},
   "outputs": [],
   "source": []
  },
  {
   "cell_type": "code",
   "execution_count": 166,
   "metadata": {},
   "outputs": [],
   "source": [
    "# Calculate the RMSE for the final model\n",
    "rmse_model_final = np.sqrt(mean_squared_error(y, y_pred))"
   ]
  },
  {
   "cell_type": "code",
   "execution_count": 167,
   "metadata": {},
   "outputs": [
    {
     "name": "stdout",
     "output_type": "stream",
     "text": [
      "rmse_model_final 4855.2944125963495\n"
     ]
    }
   ],
   "source": [
    "print('rmse_model_final',rmse_model_final)"
   ]
  },
  {
   "cell_type": "code",
   "execution_count": 170,
   "metadata": {},
   "outputs": [
    {
     "name": "stdout",
     "output_type": "stream",
     "text": [
      "RMSE (Final Model): 4855.2944125963495\n",
      "RMSE (Baseline Model): 6034.325007018446\n"
     ]
    }
   ],
   "source": [
    "# Calculate the RMSE for the baseline model (using overall average)\n",
    "overall_average_final = np.mean(data['Annual Charges ($)'])\n",
    "baseline_predictions_final = [overall_average_final] * len(data_final)\n",
    "rmse_baseline_final = np.sqrt(mean_squared_error(y, baseline_predictions_final))\n",
    "\n",
    "print(\"RMSE (Final Model):\", rmse_model_final)\n",
    "print(\"RMSE (Baseline Model):\", rmse_baseline_final)"
   ]
  },
  {
   "cell_type": "code",
   "execution_count": 171,
   "metadata": {},
   "outputs": [],
   "source": [
    "# Comparing the RMSE of the final model to the RMSE of the baseline model allows us to assess how well \n",
    "# the final model performs compared to a simple model that predicts the overall average for all observations.\n",
    "# A lower RMSE for the final model indicates better performance, \n",
    "# as it signifies smaller prediction errors compared to the baseline model."
   ]
  },
  {
   "cell_type": "code",
   "execution_count": null,
   "metadata": {},
   "outputs": [],
   "source": []
  },
  {
   "cell_type": "code",
   "execution_count": null,
   "metadata": {},
   "outputs": [],
   "source": []
  },
  {
   "cell_type": "markdown",
   "metadata": {},
   "source": [
    "#### If you could collect and utilize additional data for your multiple regression model, what would it be\n",
    "#### and why?"
   ]
  },
  {
   "cell_type": "markdown",
   "metadata": {},
   "source": [
    "## Ans\n",
    "\n",
    "##### Credit History: Information about the customer's credit history, such as credit score, credit utilization,\n",
    "\n",
    "##### Spending Habits: Data related to the customer's spending habits, such as the categories of expenses, frequency of purchases\n",
    "\n",
    "##### Location: Geographic information, such as the customer's city, state, or region, \n",
    "\n",
    "##### Credit Limit: The credit limit assigned to each customer could be included as a variable. \n",
    "\n",
    "##### Employment Status and Income Stability: Information about the customer's employment status, job type, income stability."
   ]
  },
  {
   "cell_type": "code",
   "execution_count": null,
   "metadata": {},
   "outputs": [],
   "source": []
  }
 ],
 "metadata": {
  "kernelspec": {
   "display_name": "Python 3",
   "language": "python",
   "name": "python3"
  },
  "language_info": {
   "codemirror_mode": {
    "name": "ipython",
    "version": 3
   },
   "file_extension": ".py",
   "mimetype": "text/x-python",
   "name": "python",
   "nbconvert_exporter": "python",
   "pygments_lexer": "ipython3",
   "version": "3.8.5"
  }
 },
 "nbformat": 4,
 "nbformat_minor": 4
}
